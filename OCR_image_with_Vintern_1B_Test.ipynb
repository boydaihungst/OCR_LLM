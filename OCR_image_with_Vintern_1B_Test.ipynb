{
 "cells": [
  {
   "cell_type": "code",
   "execution_count": null,
   "metadata": {
    "colab": {
     "base_uri": "https://localhost:8080/"
    },
    "id": "TSG3wPH_Wmr8",
    "outputId": "d47adb7d-a034-43b3-e9d3-8bd50c064dfd"
   },
   "outputs": [
    {
     "name": "stdout",
     "output_type": "stream",
     "text": [
      "Requirement already satisfied: timm in ./.venv/lib/python3.12/site-packages (1.0.14)\n",
      "Requirement already satisfied: einops in ./.venv/lib/python3.12/site-packages (0.8.0)\n",
      "Requirement already satisfied: torch in ./.venv/lib/python3.12/site-packages (2.5.1)\n",
      "Requirement already satisfied: torchvision in ./.venv/lib/python3.12/site-packages (0.20.1)\n",
      "Requirement already satisfied: torchaudio in ./.venv/lib/python3.12/site-packages (2.5.1)\n",
      "Requirement already satisfied: pyyaml in ./.venv/lib/python3.12/site-packages (from timm) (6.0.2)\n",
      "Requirement already satisfied: huggingface_hub in ./.venv/lib/python3.12/site-packages (from timm) (0.28.1)\n",
      "Requirement already satisfied: safetensors in ./.venv/lib/python3.12/site-packages (from timm) (0.5.2)\n",
      "Requirement already satisfied: filelock in ./.venv/lib/python3.12/site-packages (from torch) (3.17.0)\n",
      "Requirement already satisfied: typing-extensions>=4.8.0 in ./.venv/lib/python3.12/site-packages (from torch) (4.12.2)\n",
      "Requirement already satisfied: networkx in ./.venv/lib/python3.12/site-packages (from torch) (3.4.2)\n",
      "Requirement already satisfied: jinja2 in ./.venv/lib/python3.12/site-packages (from torch) (3.1.5)\n",
      "Requirement already satisfied: fsspec in ./.venv/lib/python3.12/site-packages (from torch) (2025.2.0)\n",
      "Requirement already satisfied: nvidia-cuda-nvrtc-cu12==12.4.127 in ./.venv/lib/python3.12/site-packages (from torch) (12.4.127)\n",
      "Requirement already satisfied: nvidia-cuda-runtime-cu12==12.4.127 in ./.venv/lib/python3.12/site-packages (from torch) (12.4.127)\n",
      "Requirement already satisfied: nvidia-cuda-cupti-cu12==12.4.127 in ./.venv/lib/python3.12/site-packages (from torch) (12.4.127)\n",
      "Requirement already satisfied: nvidia-cudnn-cu12==9.1.0.70 in ./.venv/lib/python3.12/site-packages (from torch) (9.1.0.70)\n",
      "Requirement already satisfied: nvidia-cublas-cu12==12.4.5.8 in ./.venv/lib/python3.12/site-packages (from torch) (12.4.5.8)\n",
      "Requirement already satisfied: nvidia-cufft-cu12==11.2.1.3 in ./.venv/lib/python3.12/site-packages (from torch) (11.2.1.3)\n",
      "Requirement already satisfied: nvidia-curand-cu12==10.3.5.147 in ./.venv/lib/python3.12/site-packages (from torch) (10.3.5.147)\n",
      "Requirement already satisfied: nvidia-cusolver-cu12==11.6.1.9 in ./.venv/lib/python3.12/site-packages (from torch) (11.6.1.9)\n",
      "Requirement already satisfied: nvidia-cusparse-cu12==12.3.1.170 in ./.venv/lib/python3.12/site-packages (from torch) (12.3.1.170)\n",
      "Requirement already satisfied: nvidia-nccl-cu12==2.21.5 in ./.venv/lib/python3.12/site-packages (from torch) (2.21.5)\n",
      "Requirement already satisfied: nvidia-nvtx-cu12==12.4.127 in ./.venv/lib/python3.12/site-packages (from torch) (12.4.127)\n",
      "Requirement already satisfied: nvidia-nvjitlink-cu12==12.4.127 in ./.venv/lib/python3.12/site-packages (from torch) (12.4.127)\n",
      "Requirement already satisfied: triton==3.1.0 in ./.venv/lib/python3.12/site-packages (from torch) (3.1.0)\n",
      "Requirement already satisfied: setuptools in ./.venv/lib/python3.12/site-packages (from torch) (75.8.0)\n",
      "Requirement already satisfied: sympy==1.13.1 in ./.venv/lib/python3.12/site-packages (from torch) (1.13.1)\n",
      "Requirement already satisfied: mpmath<1.4,>=1.1.0 in ./.venv/lib/python3.12/site-packages (from sympy==1.13.1->torch) (1.3.0)\n",
      "Requirement already satisfied: numpy in ./.venv/lib/python3.12/site-packages (from torchvision) (1.26.4)\n",
      "Requirement already satisfied: pillow!=8.3.*,>=5.3.0 in ./.venv/lib/python3.12/site-packages (from torchvision) (10.4.0)\n",
      "Requirement already satisfied: packaging>=20.9 in ./.venv/lib/python3.12/site-packages (from huggingface_hub->timm) (24.2)\n",
      "Requirement already satisfied: requests in ./.venv/lib/python3.12/site-packages (from huggingface_hub->timm) (2.32.3)\n",
      "Requirement already satisfied: tqdm>=4.42.1 in ./.venv/lib/python3.12/site-packages (from huggingface_hub->timm) (4.67.1)\n",
      "Requirement already satisfied: MarkupSafe>=2.0 in ./.venv/lib/python3.12/site-packages (from jinja2->torch) (3.0.2)\n",
      "Requirement already satisfied: charset-normalizer<4,>=2 in ./.venv/lib/python3.12/site-packages (from requests->huggingface_hub->timm) (3.4.1)\n",
      "Requirement already satisfied: idna<4,>=2.5 in ./.venv/lib/python3.12/site-packages (from requests->huggingface_hub->timm) (3.10)\n",
      "Requirement already satisfied: urllib3<3,>=1.21.1 in ./.venv/lib/python3.12/site-packages (from requests->huggingface_hub->timm) (2.3.0)\n",
      "Requirement already satisfied: certifi>=2017.4.17 in ./.venv/lib/python3.12/site-packages (from requests->huggingface_hub->timm) (2025.1.31)\n"
     ]
    }
   ],
   "source": [
    "!pip install timm einops torch torchvision torchaudio\n",
    "!pip install -U -q transformers==4.48.2 bitsandbytes\n",
    "!pip install -U -q huggingface_hub\n",
    "!pip install -q flask flask-cors pyngrok flash_attn"
   ]
  },
  {
   "cell_type": "code",
   "execution_count": 3,
   "metadata": {
    "colab": {
     "base_uri": "https://localhost:8080/"
    },
    "id": "FioDZBgFUhci",
    "outputId": "3da00b37-88f5-4c1a-89e2-2c05dcbca9fa"
   },
   "outputs": [
    {
     "ename": "ModuleNotFoundError",
     "evalue": "No module named 'torch'",
     "output_type": "error",
     "traceback": [
      "\u001b[0;31m---------------------------------------------------------------------------\u001b[0m",
      "\u001b[0;31mModuleNotFoundError\u001b[0m                       Traceback (most recent call last)",
      "Cell \u001b[0;32mIn[3], line 3\u001b[0m\n\u001b[1;32m      1\u001b[0m \u001b[38;5;28;01mimport\u001b[39;00m\u001b[38;5;250m \u001b[39m\u001b[38;5;21;01mos\u001b[39;00m\n\u001b[1;32m      2\u001b[0m \u001b[38;5;28;01mimport\u001b[39;00m\u001b[38;5;250m \u001b[39m\u001b[38;5;21;01mnumpy\u001b[39;00m\u001b[38;5;250m \u001b[39m\u001b[38;5;28;01mas\u001b[39;00m\u001b[38;5;250m \u001b[39m\u001b[38;5;21;01mnp\u001b[39;00m\n\u001b[0;32m----> 3\u001b[0m \u001b[38;5;28;01mimport\u001b[39;00m\u001b[38;5;250m \u001b[39m\u001b[38;5;21;01mtorch\u001b[39;00m\n\u001b[1;32m      4\u001b[0m \u001b[38;5;28;01mimport\u001b[39;00m\u001b[38;5;250m \u001b[39m\u001b[38;5;21;01mtorchvision\u001b[39;00m\u001b[38;5;21;01m.\u001b[39;00m\u001b[38;5;21;01mtransforms\u001b[39;00m\u001b[38;5;250m \u001b[39m\u001b[38;5;28;01mas\u001b[39;00m\u001b[38;5;250m \u001b[39m\u001b[38;5;21;01mT\u001b[39;00m\n\u001b[1;32m      5\u001b[0m \u001b[38;5;66;03m# from decord import VideoReader, cpu\u001b[39;00m\n",
      "\u001b[0;31mModuleNotFoundError\u001b[0m: No module named 'torch'"
     ]
    }
   ],
   "source": [
    "import os\n",
    "import numpy as np\n",
    "import torch\n",
    "import torchvision.transforms as T\n",
    "# from decord import VideoReader, cpu\n",
    "from PIL import Image\n",
    "from torchvision.transforms.functional import InterpolationMode\n",
    "from transformers import AutoModel, AutoTokenizer\n",
    "import requests\n",
    "\n",
    "IMAGENET_MEAN = (0.485, 0.456, 0.406)\n",
    "IMAGENET_STD = (0.229, 0.224, 0.225)\n",
    "\n",
    "def build_transform(input_size):\n",
    "    MEAN, STD = IMAGENET_MEAN, IMAGENET_STD\n",
    "    transform = T.Compose([\n",
    "        T.Lambda(lambda img: img.convert('RGB') if img.mode != 'RGB' else img),\n",
    "        T.Resize((input_size, input_size), interpolation=InterpolationMode.BICUBIC),\n",
    "        T.ToTensor(),\n",
    "        T.Normalize(mean=MEAN, std=STD)\n",
    "    ])\n",
    "    return transform\n",
    "\n",
    "def find_closest_aspect_ratio(aspect_ratio, target_ratios, width, height, image_size):\n",
    "    best_ratio_diff = float('inf')\n",
    "    best_ratio = (1, 1)\n",
    "    area = width * height\n",
    "    for ratio in target_ratios:\n",
    "        target_aspect_ratio = ratio[0] / ratio[1]\n",
    "        ratio_diff = abs(aspect_ratio - target_aspect_ratio)\n",
    "        if ratio_diff < best_ratio_diff:\n",
    "            best_ratio_diff = ratio_diff\n",
    "            best_ratio = ratio\n",
    "        elif ratio_diff == best_ratio_diff:\n",
    "            if area > 0.5 * image_size * image_size * ratio[0] * ratio[1]:\n",
    "                best_ratio = ratio\n",
    "    return best_ratio\n",
    "\n",
    "def dynamic_preprocess(image, min_num=1, max_num=12, image_size=448, use_thumbnail=False):\n",
    "    orig_width, orig_height = image.size\n",
    "    aspect_ratio = orig_width / orig_height\n",
    "\n",
    "    # calculate the existing image aspect ratio\n",
    "    target_ratios = set(\n",
    "        (i, j) for n in range(min_num, max_num + 1) for i in range(1, n + 1) for j in range(1, n + 1) if\n",
    "        i * j <= max_num and i * j >= min_num)\n",
    "    target_ratios = sorted(target_ratios, key=lambda x: x[0] * x[1])\n",
    "\n",
    "    # find the closest aspect ratio to the target\n",
    "    target_aspect_ratio = find_closest_aspect_ratio(\n",
    "        aspect_ratio, target_ratios, orig_width, orig_height, image_size)\n",
    "\n",
    "    # calculate the target width and height\n",
    "    target_width = image_size * target_aspect_ratio[0]\n",
    "    target_height = image_size * target_aspect_ratio[1]\n",
    "    blocks = target_aspect_ratio[0] * target_aspect_ratio[1]\n",
    "\n",
    "    # resize the image\n",
    "    resized_img = image.resize((target_width, target_height))\n",
    "    processed_images = []\n",
    "    for i in range(blocks):\n",
    "        box = (\n",
    "            (i % (target_width // image_size)) * image_size,\n",
    "            (i // (target_width // image_size)) * image_size,\n",
    "            ((i % (target_width // image_size)) + 1) * image_size,\n",
    "            ((i // (target_width // image_size)) + 1) * image_size\n",
    "        )\n",
    "        # split the image\n",
    "        split_img = resized_img.crop(box)\n",
    "        processed_images.append(split_img)\n",
    "    assert len(processed_images) == blocks\n",
    "    if use_thumbnail and len(processed_images) != 1:\n",
    "        thumbnail_img = image.resize((image_size, image_size))\n",
    "        processed_images.append(thumbnail_img)\n",
    "    return processed_images\n",
    "\n",
    "def load_image(image_file, input_size=448, max_num=12):\n",
    "    image = Image.open(image_file).convert('RGB')\n",
    "    transform = build_transform(input_size=input_size)\n",
    "    images = dynamic_preprocess(image, image_size=input_size, use_thumbnail=True, max_num=max_num)\n",
    "    pixel_values = [transform(image) for image in images]\n",
    "    pixel_values = torch.stack(pixel_values)\n",
    "    return pixel_values\n",
    "\n",
    "# model_name = \"5CD-AI/Vintern-1B-v2\"\n",
    "model_name = \"5CD-AI/Vintern-1B-v3_5\"\n",
    "if torch.cuda.is_available():\n",
    "  try:\n",
    "    model = AutoModel.from_pretrained(\n",
    "        model_name,\n",
    "        torch_dtype=torch.bfloat16,\n",
    "        low_cpu_mem_usage=True,\n",
    "        trust_remote_code=True,\n",
    "        use_flash_attn=False,\n",
    "    ).eval().cuda()\n",
    "  except:\n",
    "    model = AutoModel.from_pretrained(\n",
    "        model_name,\n",
    "        torch_dtype=torch.bfloat16,\n",
    "        low_cpu_mem_usage=True,\n",
    "        trust_remote_code=True,\n",
    "    ).eval().cuda()\n",
    "else:\n",
    "  try:\n",
    "    model = AutoModel.from_pretrained(\n",
    "        model_name,\n",
    "        torch_dtype=torch.bfloat16,\n",
    "        low_cpu_mem_usage=True,\n",
    "        trust_remote_code=True,\n",
    "        use_flash_attn=False,\n",
    "        device_map=\"cpu\"\n",
    "    )\n",
    "  except:\n",
    "    model = AutoModel.from_pretrained(\n",
    "        model_name,\n",
    "        torch_dtype=torch.bfloat16,\n",
    "        low_cpu_mem_usage=True,\n",
    "        trust_remote_code=True,\n",
    "        device_map=\"cpu\"\n",
    "    )\n",
    "tokenizer = AutoTokenizer.from_pretrained(model_name, trust_remote_code=True, use_fast=False)\n",
    "generation_config = dict(max_new_tokens= 4096, do_sample=False, num_beams = 3, repetition_penalty=3.5)\n",
    "# Setup Ngrok Token\n",
    "from google.colab import userdata\n",
    "from flask import Flask, jsonify, request\n",
    "from flask_cors import CORS\n",
    "from pyngrok import ngrok\n",
    "\n",
    "authtoken = userdata.get(\"ngrok_token\")\n",
    "ngrok.set_auth_token(authtoken)"
   ]
  },
  {
   "cell_type": "markdown",
   "metadata": {
    "id": "oo5Gfl6DQRRh"
   },
   "source": [
    "Expose API using ngrok"
   ]
  },
  {
   "cell_type": "code",
   "execution_count": null,
   "metadata": {
    "colab": {
     "base_uri": "https://localhost:8080/"
    },
    "id": "gVCtgJjGdvQE",
    "outputId": "151d5570-da1c-4fd4-eac5-51d0e5a88ac0"
   },
   "outputs": [
    {
     "name": "stdout",
     "output_type": "stream",
     "text": [
      "NgrokTunnel: \"https://0b40-34-168-235-221.ngrok-free.app\" -> \"http://localhost:5555\"\n",
      " * Serving Flask app '__main__'\n",
      " * Debug mode: off\n"
     ]
    },
    {
     "name": "stderr",
     "output_type": "stream",
     "text": [
      "INFO:werkzeug:\u001b[31m\u001b[1mWARNING: This is a development server. Do not use it in a production deployment. Use a production WSGI server instead.\u001b[0m\n",
      " * Running on http://127.0.0.1:5555\n",
      "INFO:werkzeug:\u001b[33mPress CTRL+C to quit\u001b[0m\n"
     ]
    },
    {
     "name": "stdout",
     "output_type": "stream",
     "text": [
      "/content/uploads/00_00_14_931__00_00_16_558.jpg\n"
     ]
    },
    {
     "name": "stderr",
     "output_type": "stream",
     "text": [
      "Setting `pad_token_id` to `eos_token_id`:151645 for open-end generation.\n",
      "INFO:werkzeug:127.0.0.1 - - [06/Feb/2025 14:18:13] \"POST /ocr HTTP/1.1\" 200 -\n"
     ]
    },
    {
     "name": "stdout",
     "output_type": "stream",
     "text": [
      "Xin chào?\n",
      "/content/uploads/00_00_16_558__00_00_20_687.jpg\n"
     ]
    },
    {
     "name": "stderr",
     "output_type": "stream",
     "text": [
      "Setting `pad_token_id` to `eos_token_id`:151645 for open-end generation.\n",
      "INFO:werkzeug:127.0.0.1 - - [06/Feb/2025 14:18:19] \"POST /ocr HTTP/1.1\" 200 -\n"
     ]
    },
    {
     "name": "stdout",
     "output_type": "stream",
     "text": [
      "Hử? Tớ vừa mới đáp xuống sân bay thôi.\n",
      "/content/uploads/00_00_21_104__00_00_24_899.jpg\n"
     ]
    },
    {
     "name": "stderr",
     "output_type": "stream",
     "text": [
      "Setting `pad_token_id` to `eos_token_id`:151645 for open-end generation.\n",
      "INFO:werkzeug:127.0.0.1 - - [06/Feb/2025 14:18:23] \"POST /ocr HTTP/1.1\" 200 -\n"
     ]
    },
    {
     "name": "stdout",
     "output_type": "stream",
     "text": [
      "Ừm, không sao. Không cần tới đón đâu.\n",
      "/content/uploads/00_00_25_442__00_00_27_819.jpg\n"
     ]
    },
    {
     "name": "stderr",
     "output_type": "stream",
     "text": [
      "Setting `pad_token_id` to `eos_token_id`:151645 for open-end generation.\n",
      "INFO:werkzeug:127.0.0.1 - - [06/Feb/2025 14:18:27] \"POST /ocr HTTP/1.1\" 200 -\n"
     ]
    },
    {
     "name": "stdout",
     "output_type": "stream",
     "text": [
      "Ừm, vậy gặp sau.\n",
      "/content/uploads/00_00_37_245__00_00_39_914.jpg\n"
     ]
    },
    {
     "name": "stderr",
     "output_type": "stream",
     "text": [
      "Setting `pad_token_id` to `eos_token_id`:151645 for open-end generation.\n",
      "INFO:werkzeug:127.0.0.1 - - [06/Feb/2025 14:18:31] \"POST /ocr HTTP/1.1\" 200 -\n"
     ]
    },
    {
     "name": "stdout",
     "output_type": "stream",
     "text": [
      "Mong là em ấy sẽ ổn.\n",
      "/content/uploads/00_00_40_331__00_00_43_543.jpg\n"
     ]
    },
    {
     "name": "stderr",
     "output_type": "stream",
     "text": [
      "Setting `pad_token_id` to `eos_token_id`:151645 for open-end generation.\n",
      "INFO:werkzeug:127.0.0.1 - - [06/Feb/2025 14:18:37] \"POST /ocr HTTP/1.1\" 200 -\n"
     ]
    },
    {
     "name": "stdout",
     "output_type": "stream",
     "text": [
      "Nên làm một chuyến tới thăm thôi nhỉ?\n",
      "/content/uploads/00_02_21_766__00_02_24_144.jpg\n"
     ]
    },
    {
     "name": "stderr",
     "output_type": "stream",
     "text": [
      "Setting `pad_token_id` to `eos_token_id`:151645 for open-end generation.\n",
      "INFO:werkzeug:127.0.0.1 - - [06/Feb/2025 14:18:42] \"POST /ocr HTTP/1.1\" 200 -\n"
     ]
    },
    {
     "name": "stdout",
     "output_type": "stream",
     "text": [
      "Xin lỗi vì đã làm phiền mọi người.\n",
      "/content/uploads/00_02_25_270__00_02_27_355.jpg\n"
     ]
    },
    {
     "name": "stderr",
     "output_type": "stream",
     "text": [
      "Setting `pad_token_id` to `eos_token_id`:151645 for open-end generation.\n",
      "INFO:werkzeug:127.0.0.1 - - [06/Feb/2025 14:18:46] \"POST /ocr HTTP/1.1\" 200 -\n"
     ]
    },
    {
     "name": "stdout",
     "output_type": "stream",
     "text": [
      "Kujirase Christina Sakura\n"
     ]
    },
    {
     "name": "stderr",
     "output_type": "stream",
     "text": [
      "Token indices sequence length is longer than the specified maximum sequence length for this model (1868 > 1700). Running this sequence through the model will result in indexing errors\n"
     ]
    },
    {
     "name": "stdout",
     "output_type": "stream",
     "text": [
      "/content/uploads/00_02_27_355__00_02_30_900.jpg\n"
     ]
    },
    {
     "name": "stderr",
     "output_type": "stream",
     "text": [
      "Setting `pad_token_id` to `eos_token_id`:151645 for open-end generation.\n",
      "INFO:werkzeug:127.0.0.1 - - [06/Feb/2025 14:18:53] \"POST /ocr HTTP/1.1\" 200 -\n"
     ]
    },
    {
     "name": "stdout",
     "output_type": "stream",
     "text": [
      "nhờ có mọi người hỗ trợ nên tớ đã trở về Mihama!\n",
      "/content/uploads/00_02_31_151__00_02_32_902.jpg\n"
     ]
    },
    {
     "name": "stderr",
     "output_type": "stream",
     "text": [
      "Setting `pad_token_id` to `eos_token_id`:151645 for open-end generation.\n",
      "INFO:werkzeug:127.0.0.1 - - [06/Feb/2025 14:18:57] \"POST /ocr HTTP/1.1\" 200 -\n"
     ]
    },
    {
     "name": "stdout",
     "output_type": "stream",
     "text": [
      "Mừng chị quay về, Kujirase.\n",
      "/content/uploads/00_02_33_486__00_02_38_157.jpg\n"
     ]
    },
    {
     "name": "stderr",
     "output_type": "stream",
     "text": [
      "Setting `pad_token_id` to `eos_token_id`:151645 for open-end generation.\n",
      "INFO:werkzeug:127.0.0.1 - - [06/Feb/2025 14:19:04] \"POST /ocr HTTP/1.1\" 200 -\n"
     ]
    },
    {
     "name": "stdout",
     "output_type": "stream",
     "text": [
      "Taiga-sama, cảm ơn ngài đã đảm nhận công việc của tôi trong lúc vắng mặt.\n",
      "/content/uploads/00_02_38_157__00_02_40_285.jpg\n"
     ]
    },
    {
     "name": "stderr",
     "output_type": "stream",
     "text": [
      "Setting `pad_token_id` to `eos_token_id`:151645 for open-end generation.\n",
      "INFO:werkzeug:127.0.0.1 - - [06/Feb/2025 14:19:08] \"POST /ocr HTTP/1.1\" 200 -\n"
     ]
    },
    {
     "name": "stdout",
     "output_type": "stream",
     "text": [
      "Có gì to tát đâu.\n",
      "/content/uploads/00_02_40_577__00_02_43_037.jpg\n"
     ]
    },
    {
     "name": "stderr",
     "output_type": "stream",
     "text": [
      "Setting `pad_token_id` to `eos_token_id`:151645 for open-end generation.\n",
      "INFO:werkzeug:127.0.0.1 - - [06/Feb/2025 14:19:14] \"POST /ocr HTTP/1.1\" 200 -\n"
     ]
    },
    {
     "name": "stdout",
     "output_type": "stream",
     "text": [
      "Nếu vẫn mệt thì chị nên đi nghỉ ngơi đi.\n",
      "/content/uploads/00_02_43_037__00_02_47_250.jpg\n"
     ]
    },
    {
     "name": "stderr",
     "output_type": "stream",
     "text": [
      "Setting `pad_token_id` to `eos_token_id`:151645 for open-end generation.\n",
      "INFO:werkzeug:127.0.0.1 - - [06/Feb/2025 14:19:21] \"POST /ocr HTTP/1.1\" 200 -\n"
     ]
    },
    {
     "name": "stdout",
     "output_type": "stream",
     "text": [
      "Tớ muốn ăn món mì Ý Neapolitan đặc biệt do Chris làm!\n",
      "/content/uploads/00_02_47_250__00_02_48_793.jpg\n"
     ]
    },
    {
     "name": "stderr",
     "output_type": "stream",
     "text": [
      "Setting `pad_token_id` to `eos_token_id`:151645 for open-end generation.\n",
      "INFO:werkzeug:127.0.0.1 - - [06/Feb/2025 14:19:25] \"POST /ocr HTTP/1.1\" 200 -\n"
     ]
    },
    {
     "name": "stdout",
     "output_type": "stream",
     "text": [
      "Ô, được đấy!\n",
      "/content/uploads/00_02_50_295__00_02_54_424.jpg\n"
     ]
    },
    {
     "name": "stderr",
     "output_type": "stream",
     "text": [
      "Setting `pad_token_id` to `eos_token_id`:151645 for open-end generation.\n",
      "INFO:werkzeug:127.0.0.1 - - [06/Feb/2025 14:19:31] \"POST /ocr HTTP/1.1\" 200 -\n"
     ]
    },
    {
     "name": "stdout",
     "output_type": "stream",
     "text": [
      "Hương vị mạnh mẽ này đến từ việc sử dụng sốt cà chua có màu đỏ thẫm!\n",
      "/content/uploads/00_02_54_424__00_02_56_926.jpg\n"
     ]
    },
    {
     "name": "stderr",
     "output_type": "stream",
     "text": [
      "Setting `pad_token_id` to `eos_token_id`:151645 for open-end generation.\n",
      "INFO:werkzeug:127.0.0.1 - - [06/Feb/2025 14:19:37] \"POST /ocr HTTP/1.1\" 200 -\n"
     ]
    },
    {
     "name": "stdout",
     "output_type": "stream",
     "text": [
      "Vị ngọt của hành, vị đắng của ớt xanh...\n",
      "/content/uploads/00_02_56_926__00_02_59_345.jpg\n"
     ]
    },
    {
     "name": "stderr",
     "output_type": "stream",
     "text": [
      "Setting `pad_token_id` to `eos_token_id`:151645 for open-end generation.\n",
      "INFO:werkzeug:127.0.0.1 - - [06/Feb/2025 14:19:43] \"POST /ocr HTTP/1.1\" 200 -\n"
     ]
    },
    {
     "name": "stdout",
     "output_type": "stream",
     "text": [
      "Và những cây nấm được khui ra từ đồ hộp!\n",
      "/content/uploads/00_02_59_345__00_03_01_806.jpg\n"
     ]
    },
    {
     "name": "stderr",
     "output_type": "stream",
     "text": [
      "Setting `pad_token_id` to `eos_token_id`:151645 for open-end generation.\n",
      "INFO:werkzeug:127.0.0.1 - - [06/Feb/2025 14:19:48] \"POST /ocr HTTP/1.1\" 200 -\n"
     ]
    },
    {
     "name": "stdout",
     "output_type": "stream",
     "text": [
      "Vậy những lời đó là khen sao?\n",
      "/content/uploads/00_03_01_806__00_03_05_059.jpg\n"
     ]
    },
    {
     "name": "stderr",
     "output_type": "stream",
     "text": [
      "Setting `pad_token_id` to `eos_token_id`:151645 for open-end generation.\n",
      "INFO:werkzeug:127.0.0.1 - - [06/Feb/2025 14:19:53] \"POST /ocr HTTP/1.1\" 200 -\n"
     ]
    },
    {
     "name": "stdout",
     "output_type": "stream",
     "text": [
      "Nổ có hương vị rất hoài niệm ạ.\n",
      "/content/uploads/00_03_05_476__00_03_10_440.jpg\n"
     ]
    },
    {
     "name": "stderr",
     "output_type": "stream",
     "text": [
      "Setting `pad_token_id` to `eos_token_id`:151645 for open-end generation.\n",
      "INFO:werkzeug:127.0.0.1 - - [06/Feb/2025 14:20:01] \"POST /ocr HTTP/1.1\" 200 -\n"
     ]
    },
    {
     "name": "stdout",
     "output_type": "stream",
     "text": [
      "Không có thứ gì không cần thiết được thêm vào, làm cho nó trở nên đơn giản và ngon miệng.\n",
      "/content/uploads/00_03_10_732__00_03_14_944.jpg\n"
     ]
    },
    {
     "name": "stderr",
     "output_type": "stream",
     "text": [
      "Setting `pad_token_id` to `eos_token_id`:151645 for open-end generation.\n",
      "INFO:werkzeug:127.0.0.1 - - [06/Feb/2025 14:20:07] \"POST /ocr HTTP/1.1\" 200 -\n"
     ]
    },
    {
     "name": "stdout",
     "output_type": "stream",
     "text": [
      "Murasaki, cậu ghét cả chua nhưng mà lại ăn những món có cà chua.\n",
      "/content/uploads/00_03_14_944__00_03_19_199.jpg\n"
     ]
    },
    {
     "name": "stderr",
     "output_type": "stream",
     "text": [
      "Setting `pad_token_id` to `eos_token_id`:151645 for open-end generation.\n",
      "INFO:werkzeug:127.0.0.1 - - [06/Feb/2025 14:20:15] \"POST /ocr HTTP/1.1\" 200 -\n"
     ]
    },
    {
     "name": "stdout",
     "output_type": "stream",
     "text": [
      "Lý do tớ không thích cà chua là vì có chất gel bao quanh hạt.\n",
      "/content/uploads/00_03_19_532__00_03_23_536.jpg\n"
     ]
    },
    {
     "name": "stderr",
     "output_type": "stream",
     "text": [
      "Setting `pad_token_id` to `eos_token_id`:151645 for open-end generation.\n",
      "INFO:werkzeug:127.0.0.1 - - [06/Feb/2025 14:20:22] \"POST /ocr HTTP/1.1\" 200 -\n"
     ]
    },
    {
     "name": "stdout",
     "output_type": "stream",
     "text": [
      "Tôi bị buộc phải ăn rau trồng ngoài trời khi còn nhỏ,\n",
      "/content/uploads/00_03_23_536__00_03_26_080.jpg\n"
     ]
    },
    {
     "name": "stderr",
     "output_type": "stream",
     "text": [
      "Setting `pad_token_id` to `eos_token_id`:151645 for open-end generation.\n",
      "INFO:werkzeug:127.0.0.1 - - [06/Feb/2025 14:20:28] \"POST /ocr HTTP/1.1\" 200 -\n"
     ]
    },
    {
     "name": "stdout",
     "output_type": "stream",
     "text": [
      "nhưng tổ chứa bao giờ yêu thích nó.\n",
      "/content/uploads/00_03_26_289__00_03_27_790.jpg\n"
     ]
    },
    {
     "name": "stderr",
     "output_type": "stream",
     "text": [
      "Setting `pad_token_id` to `eos_token_id`:151645 for open-end generation.\n",
      "INFO:werkzeug:127.0.0.1 - - [06/Feb/2025 14:20:32] \"POST /ocr HTTP/1.1\" 200 -\n"
     ]
    },
    {
     "name": "stdout",
     "output_type": "stream",
     "text": [
      "Chúng ta luôn tìm lý do\n",
      "/content/uploads/00_03_27_790__00_03_30_835.jpg\n"
     ]
    },
    {
     "name": "stderr",
     "output_type": "stream",
     "text": [
      "Setting `pad_token_id` to `eos_token_id`:151645 for open-end generation.\n",
      "INFO:werkzeug:127.0.0.1 - - [06/Feb/2025 14:20:40] \"POST /ocr HTTP/1.1\" 200 -\n"
     ]
    },
    {
     "name": "stdout",
     "output_type": "stream",
     "text": [
      "Để làng tránh thứ mà chúng ta không thích về nó.\n",
      "/content/uploads/00_03_30_835__00_03_37_133.jpg\n"
     ]
    },
    {
     "name": "stderr",
     "output_type": "stream",
     "text": [
      "Setting `pad_token_id` to `eos_token_id`:151645 for open-end generation.\n",
      "INFO:werkzeug:127.0.0.1 - - [06/Feb/2025 14:20:47] \"POST /ocr HTTP/1.1\" 200 -\n"
     ]
    },
    {
     "name": "stdout",
     "output_type": "stream",
     "text": [
      "Cảm giác như đang nhượng bộ khi mà đã đổi ý về thứ mà mình từng ghét.\n",
      "/content/uploads/00_03_37_133__00_03_41_095.jpg\n"
     ]
    },
    {
     "name": "stderr",
     "output_type": "stream",
     "text": [
      "Setting `pad_token_id` to `eos_token_id`:151645 for open-end generation.\n",
      "INFO:werkzeug:127.0.0.1 - - [06/Feb/2025 14:20:53] \"POST /ocr HTTP/1.1\" 200 -\n"
     ]
    },
    {
     "name": "stdout",
     "output_type": "stream",
     "text": [
      "Nhảm nhí. Khác gì nói rằng mình không bao giờ đạt được tiến bộ nào hết.\n",
      "/content/uploads/00_03_41_095__00_03_45_558.jpg\n"
     ]
    },
    {
     "name": "stderr",
     "output_type": "stream",
     "text": [
      "Setting `pad_token_id` to `eos_token_id`:151645 for open-end generation.\n",
      "INFO:werkzeug:127.0.0.1 - - [06/Feb/2025 14:20:59] \"POST /ocr HTTP/1.1\" 200 -\n"
     ]
    },
    {
     "name": "stdout",
     "output_type": "stream",
     "text": [
      "Hay... Cơ mà, cậu không nên gượng ép người khác.\n",
      "/content/uploads/00_03_45_558__00_03_47_477.jpg\n"
     ]
    },
    {
     "name": "stderr",
     "output_type": "stream",
     "text": [
      "Setting `pad_token_id` to `eos_token_id`:151645 for open-end generation.\n",
      "INFO:werkzeug:127.0.0.1 - - [06/Feb/2025 14:21:03] \"POST /ocr HTTP/1.1\" 200 -\n"
     ]
    },
    {
     "name": "stdout",
     "output_type": "stream",
     "text": [
      "Ừ thì, cũng đúng.\n",
      "/content/uploads/00_03_47_477__00_03_49_979.jpg\n"
     ]
    },
    {
     "name": "stderr",
     "output_type": "stream",
     "text": [
      "Setting `pad_token_id` to `eos_token_id`:151645 for open-end generation.\n",
      "INFO:werkzeug:127.0.0.1 - - [06/Feb/2025 14:21:08] \"POST /ocr HTTP/1.1\" 200 -\n"
     ]
    },
    {
     "name": "stdout",
     "output_type": "stream",
     "text": [
      "Em xin phép ăn thêm nữa nhé!\n",
      "/content/uploads/00_03_54_859__00_03_56_819.jpg\n"
     ]
    },
    {
     "name": "stderr",
     "output_type": "stream",
     "text": [
      "Setting `pad_token_id` to `eos_token_id`:151645 for open-end generation.\n",
      "INFO:werkzeug:127.0.0.1 - - [06/Feb/2025 14:21:13] \"POST /ocr HTTP/1.1\" 200 -\n"
     ]
    },
    {
     "name": "stdout",
     "output_type": "stream",
     "text": [
      "Megumi, em có ổn không đấy?\n",
      "/content/uploads/00_03_56_819__00_03_58_780.jpg\n"
     ]
    },
    {
     "name": "stderr",
     "output_type": "stream",
     "text": [
      "Setting `pad_token_id` to `eos_token_id`:151645 for open-end generation.\n",
      "INFO:werkzeug:127.0.0.1 - - [06/Feb/2025 14:21:18] \"POST /ocr HTTP/1.1\" 200 -\n"
     ]
    },
    {
     "name": "stdout",
     "output_type": "stream",
     "text": [
      "Dạo này cậu tăng cân à?\n",
      "/content/uploads/00_03_59_364__00_04_01_658.jpg\n"
     ]
    },
    {
     "name": "stderr",
     "output_type": "stream",
     "text": [
      "Setting `pad_token_id` to `eos_token_id`:151645 for open-end generation.\n",
      "INFO:werkzeug:127.0.0.1 - - [06/Feb/2025 14:21:22] \"POST /ocr HTTP/1.1\" 200 -\n"
     ]
    },
    {
     "name": "stdout",
     "output_type": "stream",
     "text": [
      "Khuôn mặt rõ tròn,\n",
      "/content/uploads/00_04_01_658__00_04_05_119.jpg\n"
     ]
    },
    {
     "name": "stderr",
     "output_type": "stream",
     "text": [
      "Setting `pad_token_id` to `eos_token_id`:151645 for open-end generation.\n",
      "INFO:werkzeug:127.0.0.1 - - [06/Feb/2025 14:21:29] \"POST /ocr HTTP/1.1\" 200 -\n"
     ]
    },
    {
     "name": "stdout",
     "output_type": "stream",
     "text": [
      "Và đồng phục chống đạn thì ngày càng chặt hơn.\n",
      "/content/uploads/00_04_06_162__00_04_08_665.jpg\n"
     ]
    },
    {
     "name": "stderr",
     "output_type": "stream",
     "text": [
      "Setting `pad_token_id` to `eos_token_id`:151645 for open-end generation.\n",
      "INFO:werkzeug:127.0.0.1 - - [06/Feb/2025 14:21:34] \"POST /ocr HTTP/1.1\" 200 -\n"
     ]
    },
    {
     "name": "stdout",
     "output_type": "stream",
     "text": [
      "Chị đừng phê bình em nữa đi ạ.\n",
      "/content/uploads/00_04_08_665__00_04_11_501.jpg\n"
     ]
    },
    {
     "name": "stderr",
     "output_type": "stream",
     "text": [
      "Setting `pad_token_id` to `eos_token_id`:151645 for open-end generation.\n",
      "INFO:werkzeug:127.0.0.1 - - [06/Feb/2025 14:21:39] \"POST /ocr HTTP/1.1\" 200 -\n"
     ]
    },
    {
     "name": "stdout",
     "output_type": "stream",
     "text": [
      "Không sao, cứ ăn đi. Nhưng đổi lại...\n",
      "/content/uploads/00_04_11_501__00_04_13_962.jpg\n"
     ]
    },
    {
     "name": "stderr",
     "output_type": "stream",
     "text": [
      "Setting `pad_token_id` to `eos_token_id`:151645 for open-end generation.\n",
      "INFO:werkzeug:127.0.0.1 - - [06/Feb/2025 14:21:45] \"POST /ocr HTTP/1.1\" 200 -\n"
     ]
    },
    {
     "name": "stdout",
     "output_type": "stream",
     "text": [
      "Tôi sẽ thêm một buổi huấn luyện nữa cho em.\n",
      "/content/uploads/00_04_15_421__00_04_17_799.jpg\n"
     ]
    },
    {
     "name": "stderr",
     "output_type": "stream",
     "text": [
      "Setting `pad_token_id` to `eos_token_id`:151645 for open-end generation.\n",
      "INFO:werkzeug:127.0.0.1 - - [06/Feb/2025 14:21:49] \"POST /ocr HTTP/1.1\" 200 -\n"
     ]
    },
    {
     "name": "stdout",
     "output_type": "stream",
     "text": [
      "Mời vào.\n",
      "/content/uploads/00_04_23_096__00_04_26_641.jpg\n"
     ]
    },
    {
     "name": "stderr",
     "output_type": "stream",
     "text": [
      "Setting `pad_token_id` to `eos_token_id`:151645 for open-end generation.\n",
      "INFO:werkzeug:127.0.0.1 - - [06/Feb/2025 14:21:54] \"POST /ocr HTTP/1.1\" 200 -\n"
     ]
    },
    {
     "name": "stdout",
     "output_type": "stream",
     "text": [
      "Chào, Murasaki. chuyện gì vậy, sao lại ăn mặc như Chris thế?\n",
      "/content/uploads/00_04_28_476__00_04_31_145.jpg\n"
     ]
    },
    {
     "name": "stderr",
     "output_type": "stream",
     "text": [
      "Setting `pad_token_id` to `eos_token_id`:151645 for open-end generation.\n",
      "INFO:werkzeug:127.0.0.1 - - [06/Feb/2025 14:22:00] \"POST /ocr HTTP/1.1\" 200 -\n"
     ]
    },
    {
     "name": "stdout",
     "output_type": "stream",
     "text": [
      "Tớ đã nghĩ là cậu sẽ không nhận ra.\n",
      "/content/uploads/00_04_31_145__00_04_34_023.jpg\n"
     ]
    },
    {
     "name": "stderr",
     "output_type": "stream",
     "text": [
      "Setting `pad_token_id` to `eos_token_id`:151645 for open-end generation.\n",
      "INFO:werkzeug:127.0.0.1 - - [06/Feb/2025 14:22:06] \"POST /ocr HTTP/1.1\" 200 -\n"
     ]
    },
    {
     "name": "stdout",
     "output_type": "stream",
     "text": [
      "Cậu định làm gì bằng cách mạo danh cậu ấy?\n",
      "/content/uploads/00_04_34_023__00_04_35_692.jpg\n"
     ]
    },
    {
     "name": "stderr",
     "output_type": "stream",
     "text": [
      "Setting `pad_token_id` to `eos_token_id`:151645 for open-end generation.\n",
      "INFO:werkzeug:127.0.0.1 - - [06/Feb/2025 14:22:10] \"POST /ocr HTTP/1.1\" 200 -\n"
     ]
    },
    {
     "name": "stdout",
     "output_type": "stream",
     "text": [
      "Không gì hết.\n",
      "/content/uploads/00_04_35_692__00_04_39_237.jpg\n"
     ]
    },
    {
     "name": "stderr",
     "output_type": "stream",
     "text": [
      "Setting `pad_token_id` to `eos_token_id`:151645 for open-end generation.\n",
      "INFO:werkzeug:127.0.0.1 - - [06/Feb/2025 14:22:16] \"POST /ocr HTTP/1.1\" 200 -\n"
     ]
    },
    {
     "name": "stdout",
     "output_type": "stream",
     "text": [
      "Cậu ấy bận dạy thêm nên hôm nay nên không đến gặp cậu được.\n",
      "/content/uploads/00_04_39_237__00_04_41_114.jpg\n"
     ]
    },
    {
     "name": "stderr",
     "output_type": "stream",
     "text": [
      "Setting `pad_token_id` to `eos_token_id`:151645 for open-end generation.\n",
      "INFO:werkzeug:127.0.0.1 - - [06/Feb/2025 14:22:21] \"POST /ocr HTTP/1.1\" 200 -\n"
     ]
    },
    {
     "name": "stdout",
     "output_type": "stream",
     "text": [
      "Nên tớ đã nghĩ nếu giả dạng thì...\n",
      "/content/uploads/00_04_41_114__00_04_44_909.jpg\n"
     ]
    },
    {
     "name": "stderr",
     "output_type": "stream",
     "text": [
      "Setting `pad_token_id` to `eos_token_id`:151645 for open-end generation.\n",
      "INFO:werkzeug:127.0.0.1 - - [06/Feb/2025 14:22:27] \"POST /ocr HTTP/1.1\" 200 -\n"
     ]
    },
    {
     "name": "stdout",
     "output_type": "stream",
     "text": [
      "Tớ hiểu rồi. Thực sự có ý nghĩa đấy. Những thứ tầm thường là thú vị nhất.\n",
      "/content/uploads/00_04_45_159__00_04_48_413.jpg\n"
     ]
    },
    {
     "name": "stderr",
     "output_type": "stream",
     "text": [
      "Setting `pad_token_id` to `eos_token_id`:151645 for open-end generation.\n",
      "INFO:werkzeug:127.0.0.1 - - [06/Feb/2025 14:22:33] \"POST /ocr HTTP/1.1\" 200 -\n"
     ]
    },
    {
     "name": "stdout",
     "output_type": "stream",
     "text": [
      "Nếu đã cải trang rồi, hãy nói gì mà Chris sẽ không bao giờ nói đi?\n",
      "/content/uploads/00_04_48_663__00_04_53_167.jpg\n"
     ]
    },
    {
     "name": "stderr",
     "output_type": "stream",
     "text": [
      "Setting `pad_token_id` to `eos_token_id`:151645 for open-end generation.\n",
      "INFO:werkzeug:127.0.0.1 - - [06/Feb/2025 14:22:40] \"POST /ocr HTTP/1.1\" 200 -\n"
     ]
    },
    {
     "name": "stdout",
     "output_type": "stream",
     "text": [
      "Thay vì tiêm Botox, tớ có nên tiêm vài viên đạn vào đầu cậu không?\n",
      "/content/uploads/00_04_54_419__00_04_58_047.jpg\n"
     ]
    },
    {
     "name": "stderr",
     "output_type": "stream",
     "text": [
      "Setting `pad_token_id` to `eos_token_id`:151645 for open-end generation.\n",
      "INFO:werkzeug:127.0.0.1 - - [06/Feb/2025 14:22:47] \"POST /ocr HTTP/1.1\" 200 -\n"
     ]
    },
    {
     "name": "stdout",
     "output_type": "stream",
     "text": [
      "Ra vậy, đúng là Chris sẽ không bao giờ nói thế.\n",
      "/content/uploads/00_04_58_256__00_05_01_259.jpg\n"
     ]
    },
    {
     "name": "stderr",
     "output_type": "stream",
     "text": [
      "Setting `pad_token_id` to `eos_token_id`:151645 for open-end generation.\n",
      "INFO:werkzeug:127.0.0.1 - - [06/Feb/2025 14:22:53] \"POST /ocr HTTP/1.1\" 200 -\n"
     ]
    },
    {
     "name": "stdout",
     "output_type": "stream",
     "text": [
      "Mà thật ra tớ muốn tới để phụ giúp cậu.\n",
      "/content/uploads/00_05_01_259__00_05_02_552.jpg\n"
     ]
    },
    {
     "name": "stderr",
     "output_type": "stream",
     "text": [
      "Setting `pad_token_id` to `eos_token_id`:151645 for open-end generation.\n",
      "INFO:werkzeug:127.0.0.1 - - [06/Feb/2025 14:22:57] \"POST /ocr HTTP/1.1\" 200 -\n"
     ]
    },
    {
     "name": "stdout",
     "output_type": "stream",
     "text": [
      "Giúp tớ à...\n",
      "/content/uploads/00_05_02_927__00_05_05_346.jpg\n"
     ]
    },
    {
     "name": "stderr",
     "output_type": "stream",
     "text": [
      "Setting `pad_token_id` to `eos_token_id`:151645 for open-end generation.\n",
      "INFO:werkzeug:127.0.0.1 - - [06/Feb/2025 14:23:05] \"POST /ocr HTTP/1.1\" 200 -\n"
     ]
    },
    {
     "name": "stdout",
     "output_type": "stream",
     "text": [
      "Cậu lấy cho tớ tờ giấy và cây bút đằng kia nha?\n",
      "/content/uploads/00_05_06_514__00_05_08_307.jpg\n"
     ]
    },
    {
     "name": "stderr",
     "output_type": "stream",
     "text": [
      "Setting `pad_token_id` to `eos_token_id`:151645 for open-end generation.\n",
      "INFO:werkzeug:127.0.0.1 - - [06/Feb/2025 14:23:10] \"POST /ocr HTTP/1.1\" 200 -\n"
     ]
    },
    {
     "name": "stdout",
     "output_type": "stream",
     "text": [
      "Tốt, phát tiếp theo là viên cuối.\n",
      "/content/uploads/00_05_09_183__00_05_11_811.jpg\n"
     ]
    },
    {
     "name": "stderr",
     "output_type": "stream",
     "text": [
      "Setting `pad_token_id` to `eos_token_id`:151645 for open-end generation.\n",
      "INFO:werkzeug:127.0.0.1 - - [06/Feb/2025 14:23:15] \"POST /ocr HTTP/1.1\" 200 -\n"
     ]
    },
    {
     "name": "stdout",
     "output_type": "stream",
     "text": [
      "Tốt lắm. Hôm nay đến đây thôi.\n",
      "/content/uploads/00_05_11_811__00_05_15_148.jpg\n"
     ]
    },
    {
     "name": "stderr",
     "output_type": "stream",
     "text": [
      "Setting `pad_token_id` to `eos_token_id`:151645 for open-end generation.\n",
      "INFO:werkzeug:127.0.0.1 - - [06/Feb/2025 14:23:22] \"POST /ocr HTTP/1.1\" 200 -\n"
     ]
    },
    {
     "name": "stdout",
     "output_type": "stream",
     "text": [
      "Em không nghĩ là mình được phép huấn luyện trên này.\n",
      "/content/uploads/00_05_15_148__00_05_19_527.jpg\n"
     ]
    },
    {
     "name": "stderr",
     "output_type": "stream",
     "text": [
      "Setting `pad_token_id` to `eos_token_id`:151645 for open-end generation.\n",
      "INFO:werkzeug:127.0.0.1 - - [06/Feb/2025 14:23:29] \"POST /ocr HTTP/1.1\" 200 -\n"
     ]
    },
    {
     "name": "stdout",
     "output_type": "stream",
     "text": [
      "Tôi nghe nói học sinh thường cầm cờ màu đỏ trong sân và nhắm vào nó từ đây.\n",
      "/content/uploads/00_05_19_527__00_05_22_739.jpg\n"
     ]
    },
    {
     "name": "stderr",
     "output_type": "stream",
     "text": [
      "Setting `pad_token_id` to `eos_token_id`:151645 for open-end generation.\n",
      "INFO:werkzeug:127.0.0.1 - - [06/Feb/2025 14:23:37] \"POST /ocr HTTP/1.1\" 200 -\n"
     ]
    },
    {
     "name": "stdout",
     "output_type": "stream",
     "text": [
      "Họ cũng được đào tạo bằng cách quan sát lớp học ở đối diện.\n",
      "/content/uploads/00_05_22_739__00_05_24_699.jpg\n"
     ]
    },
    {
     "name": "stderr",
     "output_type": "stream",
     "text": [
      "Setting `pad_token_id` to `eos_token_id`:151645 for open-end generation.\n",
      "INFO:werkzeug:127.0.0.1 - - [06/Feb/2025 14:23:41] \"POST /ocr HTTP/1.1\" 200 -\n"
     ]
    },
    {
     "name": "stdout",
     "output_type": "stream",
     "text": [
      "Thì ra là như vậy.\n",
      "/content/uploads/00_05_25_533__00_05_28_369.jpg\n"
     ]
    },
    {
     "name": "stderr",
     "output_type": "stream",
     "text": [
      "Setting `pad_token_id` to `eos_token_id`:151645 for open-end generation.\n",
      "INFO:werkzeug:127.0.0.1 - - [06/Feb/2025 14:23:46] \"POST /ocr HTTP/1.1\" 200 -\n"
     ]
    },
    {
     "name": "stdout",
     "output_type": "stream",
     "text": [
      "Hừm? Có thứ gì đó ở đằng kia?\n",
      "/content/uploads/00_05_28_369__00_05_29_203.jpg\n"
     ]
    },
    {
     "name": "stderr",
     "output_type": "stream",
     "text": [
      "Setting `pad_token_id` to `eos_token_id`:151645 for open-end generation.\n",
      "INFO:werkzeug:127.0.0.1 - - [06/Feb/2025 14:23:50] \"POST /ocr HTTP/1.1\" 200 -\n"
     ]
    },
    {
     "name": "stdout",
     "output_type": "stream",
     "text": [
      "Đâu?\n",
      "/content/uploads/00_05_29_203__00_05_30_663.jpg\n"
     ]
    },
    {
     "name": "stderr",
     "output_type": "stream",
     "text": [
      "Setting `pad_token_id` to `eos_token_id`:151645 for open-end generation.\n",
      "INFO:werkzeug:127.0.0.1 - - [06/Feb/2025 14:23:55] \"POST /ocr HTTP/1.1\" 200 -\n"
     ]
    },
    {
     "name": "stdout",
     "output_type": "stream",
     "text": [
      "Sảnh phía đông, tầng 2...\n",
      "/content/uploads/00_05_30_663__00_05_35_001.jpg\n"
     ]
    },
    {
     "name": "stderr",
     "output_type": "stream",
     "text": [
      "Setting `pad_token_id` to `eos_token_id`:151645 for open-end generation.\n",
      "INFO:werkzeug:127.0.0.1 - - [06/Feb/2025 14:24:02] \"POST /ocr HTTP/1.1\" 200 -\n"
     ]
    },
    {
     "name": "stdout",
     "output_type": "stream",
     "text": [
      "Ừm, theo bản thiết kế thì có vẻ như đây là phòng thí nghiệm của Haruto-dono.\n",
      "/content/uploads/00_05_35_376__00_05_37_503.jpg\n"
     ]
    },
    {
     "name": "stderr",
     "output_type": "stream",
     "text": [
      "Setting `pad_token_id` to `eos_token_id`:151645 for open-end generation.\n",
      "INFO:werkzeug:127.0.0.1 - - [06/Feb/2025 14:24:06] \"POST /ocr HTTP/1.1\" 200 -\n"
     ]
    },
    {
     "name": "stdout",
     "output_type": "stream",
     "text": [
      "Mau đưa cây súng đây.\n",
      "/content/uploads/00_05_37_879__00_05_38_588.jpg\n"
     ]
    },
    {
     "name": "stderr",
     "output_type": "stream",
     "text": [
      "Setting `pad_token_id` to `eos_token_id`:151645 for open-end generation.\n",
      "INFO:werkzeug:127.0.0.1 - - [06/Feb/2025 14:24:10] \"POST /ocr HTTP/1.1\" 200 -\n"
     ]
    },
    {
     "name": "stdout",
     "output_type": "stream",
     "text": [
      "Hở?\n",
      "/content/uploads/00_05_41_966__00_05_43_676.jpg\n"
     ]
    },
    {
     "name": "stderr",
     "output_type": "stream",
     "text": [
      "Setting `pad_token_id` to `eos_token_id`:151645 for open-end generation.\n",
      "INFO:werkzeug:127.0.0.1 - - [06/Feb/2025 14:24:14] \"POST /ocr HTTP/1.1\" 200 -\n"
     ]
    },
    {
     "name": "stdout",
     "output_type": "stream",
     "text": [
      "Cậu ấy bắn thật kìa!\n",
      "/content/uploads/00_05_43_676__00_05_46_471.jpg\n"
     ]
    },
    {
     "name": "stderr",
     "output_type": "stream",
     "text": [
      "Setting `pad_token_id` to `eos_token_id`:151645 for open-end generation.\n",
      "INFO:werkzeug:127.0.0.1 - - [06/Feb/2025 14:24:20] \"POST /ocr HTTP/1.1\" 200 -\n"
     ]
    },
    {
     "name": "stdout",
     "output_type": "stream",
     "text": [
      "Tohka không thích kiểu đùa vậy đâu.\n",
      "/content/uploads/00_05_46_471__00_05_48_014.jpg\n"
     ]
    },
    {
     "name": "stderr",
     "output_type": "stream",
     "text": [
      "Setting `pad_token_id` to `eos_token_id`:151645 for open-end generation.\n",
      "INFO:werkzeug:127.0.0.1 - - [06/Feb/2025 14:24:24] \"POST /ocr HTTP/1.1\" 200 -\n"
     ]
    },
    {
     "name": "stdout",
     "output_type": "stream",
     "text": [
      "Haiz\n",
      "/content/uploads/00_05_48_014__00_05_50_975.jpg\n"
     ]
    },
    {
     "name": "stderr",
     "output_type": "stream",
     "text": [
      "Setting `pad_token_id` to `eos_token_id`:151645 for open-end generation.\n",
      "INFO:werkzeug:127.0.0.1 - - [06/Feb/2025 14:24:31] \"POST /ocr HTTP/1.1\" 200 -\n"
     ]
    },
    {
     "name": "stdout",
     "output_type": "stream",
     "text": [
      "Từ giờ trở đi cậu nên hạn chế mấy trò đùa quá trớn đi.\n",
      "/content/uploads/00_05_50_975__00_05_52_226.jpg\n"
     ]
    },
    {
     "name": "stderr",
     "output_type": "stream",
     "text": [
      "Setting `pad_token_id` to `eos_token_id`:151645 for open-end generation.\n",
      "INFO:werkzeug:127.0.0.1 - - [06/Feb/2025 14:24:35] \"POST /ocr HTTP/1.1\" 200 -\n"
     ]
    },
    {
     "name": "stdout",
     "output_type": "stream",
     "text": [
      "Quá trớn à?\n",
      "/content/uploads/00_05_52_560__00_05_56_355.jpg\n"
     ]
    },
    {
     "name": "stderr",
     "output_type": "stream",
     "text": [
      "Setting `pad_token_id` to `eos_token_id`:151645 for open-end generation.\n",
      "INFO:werkzeug:127.0.0.1 - - [06/Feb/2025 14:24:42] \"POST /ocr HTTP/1.1\" 200 -\n"
     ]
    },
    {
     "name": "stdout",
     "output_type": "stream",
     "text": [
      "Cậu chưa bao giờ nói tớ yêu cậu\" với tớ cả.\n",
      "/content/uploads/00_05_56_647__00_06_00_234.jpg\n"
     ]
    },
    {
     "name": "stderr",
     "output_type": "stream",
     "text": [
      "Setting `pad_token_id` to `eos_token_id`:151645 for open-end generation.\n",
      "INFO:werkzeug:127.0.0.1 - - [06/Feb/2025 14:24:49] \"POST /ocr HTTP/1.1\" 200 -\n"
     ]
    },
    {
     "name": "stdout",
     "output_type": "stream",
     "text": [
      "Cậu không phải người hợp với kiểu đùa đó đâu, Murasaki.\n",
      "/content/uploads/00_06_00_234__00_06_04_614.jpg\n"
     ]
    },
    {
     "name": "stderr",
     "output_type": "stream",
     "text": [
      "Setting `pad_token_id` to `eos_token_id`:151645 for open-end generation.\n",
      "INFO:werkzeug:127.0.0.1 - - [06/Feb/2025 14:24:56] \"POST /ocr HTTP/1.1\" 200 -\n"
     ]
    },
    {
     "name": "stdout",
     "output_type": "stream",
     "text": [
      "Ninja sẽ dừng làm việc nếu có ai đó nói tôi yêu bạn\" với họ.\n",
      "/content/uploads/00_06_08_076__00_06_12_872.jpg\n"
     ]
    },
    {
     "name": "stderr",
     "output_type": "stream",
     "text": [
      "Setting `pad_token_id` to `eos_token_id`:151645 for open-end generation.\n",
      "INFO:werkzeug:127.0.0.1 - - [06/Feb/2025 14:25:02] \"POST /ocr HTTP/1.1\" 200 -\n"
     ]
    },
    {
     "name": "stdout",
     "output_type": "stream",
     "text": [
      "Em đã bắt kịp giờ học trên lớp rồi, buổi học hôm nay đến đây thôi.\n",
      "/content/uploads/00_06_15_792__00_06_17_585.jpg\n"
     ]
    },
    {
     "name": "stderr",
     "output_type": "stream",
     "text": [
      "Setting `pad_token_id` to `eos_token_id`:151645 for open-end generation.\n",
      "INFO:werkzeug:127.0.0.1 - - [06/Feb/2025 14:25:06] \"POST /ocr HTTP/1.1\" 200 -\n"
     ]
    },
    {
     "name": "stdout",
     "output_type": "stream",
     "text": [
      "Em cảm ơn cô ạ.\n",
      "/content/uploads/00_06_31_057__00_06_32_892.jpg\n"
     ]
    },
    {
     "name": "stderr",
     "output_type": "stream",
     "text": [
      "Setting `pad_token_id` to `eos_token_id`:151645 for open-end generation.\n",
      "INFO:werkzeug:127.0.0.1 - - [06/Feb/2025 14:25:12] \"POST /ocr HTTP/1.1\" 200 -\n"
     ]
    },
    {
     "name": "stdout",
     "output_type": "stream",
     "text": [
      "Chỗ ngồi đó có làm cô tò mò không?\n",
      "/content/uploads/00_06_34_394__00_06_36_604.jpg\n"
     ]
    },
    {
     "name": "stderr",
     "output_type": "stream",
     "text": [
      "Setting `pad_token_id` to `eos_token_id`:151645 for open-end generation.\n",
      "INFO:werkzeug:127.0.0.1 - - [06/Feb/2025 14:25:18] \"POST /ocr HTTP/1.1\" 200 -\n"
     ]
    },
    {
     "name": "stdout",
     "output_type": "stream",
     "text": [
      "Murasaki-san, cô đã không thấy em ở đó.\n",
      "/content/uploads/00_06_36_604__00_06_38_898.jpg\n"
     ]
    },
    {
     "name": "stderr",
     "output_type": "stream",
     "text": [
      "Setting `pad_token_id` to `eos_token_id`:151645 for open-end generation.\n",
      "INFO:werkzeug:127.0.0.1 - - [06/Feb/2025 14:25:23] \"POST /ocr HTTP/1.1\" 200 -\n"
     ]
    },
    {
     "name": "stdout",
     "output_type": "stream",
     "text": [
      "Ninja có thể được tìm thấy ở mọi nơi.\n",
      "/content/uploads/00_06_38_898__00_06_42_443.jpg\n"
     ]
    },
    {
     "name": "stderr",
     "output_type": "stream",
     "text": [
      "Setting `pad_token_id` to `eos_token_id`:151645 for open-end generation.\n",
      "INFO:werkzeug:127.0.0.1 - - [06/Feb/2025 14:25:30] \"POST /ocr HTTP/1.1\" 200 -\n"
     ]
    },
    {
     "name": "stdout",
     "output_type": "stream",
     "text": [
      "Em là người đã đặt những bông hoa ở đó sao?\n",
      "/content/uploads/00_06_42_443__00_06_44_153.jpg\n"
     ]
    },
    {
     "name": "stderr",
     "output_type": "stream",
     "text": [
      "Setting `pad_token_id` to `eos_token_id`:151645 for open-end generation.\n",
      "INFO:werkzeug:127.0.0.1 - - [06/Feb/2025 14:25:34] \"POST /ocr HTTP/1.1\" 200 -\n"
     ]
    },
    {
     "name": "stdout",
     "output_type": "stream",
     "text": [
      "Không thường xuyên đâu ạ.\n",
      "/content/uploads/00_06_44_320__00_06_45_321.jpg\n"
     ]
    },
    {
     "name": "stderr",
     "output_type": "stream",
     "text": [
      "Setting `pad_token_id` to `eos_token_id`:151645 for open-end generation.\n",
      "INFO:werkzeug:127.0.0.1 - - [06/Feb/2025 14:25:38] \"POST /ocr HTTP/1.1\" 200 -\n"
     ]
    },
    {
     "name": "stdout",
     "output_type": "stream",
     "text": [
      "Cái gì thế?\n",
      "/content/uploads/00_06_45_321__00_06_46_906.jpg\n"
     ]
    },
    {
     "name": "stderr",
     "output_type": "stream",
     "text": [
      "Setting `pad_token_id` to `eos_token_id`:151645 for open-end generation.\n",
      "INFO:werkzeug:127.0.0.1 - - [06/Feb/2025 14:25:42] \"POST /ocr HTTP/1.1\" 200 -\n"
     ]
    },
    {
     "name": "stdout",
     "output_type": "stream",
     "text": [
      "Đó là Goro.\n",
      "/content/uploads/00_06_47_156__00_06_51_786.jpg\n"
     ]
    },
    {
     "name": "stderr",
     "output_type": "stream",
     "text": [
      "Setting `pad_token_id` to `eos_token_id`:151645 for open-end generation.\n",
      "INFO:werkzeug:127.0.0.1 - - [06/Feb/2025 14:25:48] \"POST /ocr HTTP/1.1\" 200 -\n"
     ]
    },
    {
     "name": "stdout",
     "output_type": "stream",
     "text": [
      "Em suýt chọn Puggusari, nhưng chị ấy thích nước Anh, nên là...\n",
      "/content/uploads/00_06_51_786__00_06_53_996.jpg\n"
     ]
    },
    {
     "name": "stderr",
     "output_type": "stream",
     "text": [
      "Setting `pad_token_id` to `eos_token_id`:151645 for open-end generation.\n",
      "INFO:werkzeug:127.0.0.1 - - [06/Feb/2025 14:25:52] \"POST /ocr HTTP/1.1\" 200 -\n"
     ]
    },
    {
     "name": "stdout",
     "output_type": "stream",
     "text": [
      "Ừm, ghế này là của...?\n",
      "/content/uploads/00_06_53_996__00_06_55_540.jpg\n"
     ]
    },
    {
     "name": "stderr",
     "output_type": "stream",
     "text": [
      "Setting `pad_token_id` to `eos_token_id`:151645 for open-end generation.\n",
      "INFO:werkzeug:127.0.0.1 - - [06/Feb/2025 14:25:56] \"POST /ocr HTTP/1.1\" 200 -\n"
     ]
    },
    {
     "name": "stdout",
     "output_type": "stream",
     "text": [
      "Chị của em.\n",
      "/content/uploads/00_06_55_748__00_06_57_208.jpg\n"
     ]
    },
    {
     "name": "stderr",
     "output_type": "stream",
     "text": [
      "Setting `pad_token_id` to `eos_token_id`:151645 for open-end generation.\n",
      "INFO:werkzeug:127.0.0.1 - - [06/Feb/2025 14:26:01] \"POST /ocr HTTP/1.1\" 200 -\n"
     ]
    },
    {
     "name": "stdout",
     "output_type": "stream",
     "text": [
      "Chị của em ư?\n",
      "/content/uploads/00_06_57_208__00_06_59_293.jpg\n"
     ]
    },
    {
     "name": "stderr",
     "output_type": "stream",
     "text": [
      "Setting `pad_token_id` to `eos_token_id`:151645 for open-end generation.\n",
      "INFO:werkzeug:127.0.0.1 - - [06/Feb/2025 14:26:05] \"POST /ocr HTTP/1.1\" 200 -\n"
     ]
    },
    {
     "name": "stdout",
     "output_type": "stream",
     "text": [
      "Dạ, chị ấy...\n",
      "/content/uploads/00_07_00_628__00_07_03_047.jpg\n"
     ]
    },
    {
     "name": "stderr",
     "output_type": "stream",
     "text": [
      "Setting `pad_token_id` to `eos_token_id`:151645 for open-end generation.\n",
      "INFO:werkzeug:127.0.0.1 - - [06/Feb/2025 14:26:09] \"POST /ocr HTTP/1.1\" 200 -\n"
     ]
    },
    {
     "name": "stdout",
     "output_type": "stream",
     "text": [
      "đã đi đến một nơi rất xa.\n",
      "/content/uploads/00_07_04_006__00_07_06_592.jpg\n"
     ]
    },
    {
     "name": "stderr",
     "output_type": "stream",
     "text": [
      "Setting `pad_token_id` to `eos_token_id`:151645 for open-end generation.\n",
      "INFO:werkzeug:127.0.0.1 - - [06/Feb/2025 14:26:13] \"POST /ocr HTTP/1.1\" 200 -\n"
     ]
    },
    {
     "name": "stdout",
     "output_type": "stream",
     "text": [
      "Là... vậy sao?\n",
      "/content/uploads/00_07_06_843__00_07_10_805.jpg\n"
     ]
    },
    {
     "name": "stderr",
     "output_type": "stream",
     "text": [
      "Setting `pad_token_id` to `eos_token_id`:151645 for open-end generation.\n",
      "INFO:werkzeug:127.0.0.1 - - [06/Feb/2025 14:26:20] \"POST /ocr HTTP/1.1\" 200 -\n"
     ]
    },
    {
     "name": "stdout",
     "output_type": "stream",
     "text": [
      "Trời ạ, sao em lại nói dối trắng trọn thế?\n",
      "/content/uploads/00_07_11_055__00_07_11_430.jpg\n"
     ]
    },
    {
     "name": "stderr",
     "output_type": "stream",
     "text": [
      "Setting `pad_token_id` to `eos_token_id`:151645 for open-end generation.\n",
      "INFO:werkzeug:127.0.0.1 - - [06/Feb/2025 14:26:24] \"POST /ocr HTTP/1.1\" 200 -\n"
     ]
    },
    {
     "name": "stdout",
     "output_type": "stream",
     "text": [
      "Hở?\n",
      "/content/uploads/00_07_11_430__00_07_14_767.jpg\n"
     ]
    },
    {
     "name": "stderr",
     "output_type": "stream",
     "text": [
      "Setting `pad_token_id` to `eos_token_id`:151645 for open-end generation.\n",
      "INFO:werkzeug:127.0.0.1 - - [06/Feb/2025 14:26:30] \"POST /ocr HTTP/1.1\" 200 -\n"
     ]
    },
    {
     "name": "stdout",
     "output_type": "stream",
     "text": [
      "Mà ninja nói dối cũng là chuyện thường thôi.\n",
      "/content/uploads/00_07_00_002__00_07_15_017.jpg\n"
     ]
    },
    {
     "name": "stderr",
     "output_type": "stream",
     "text": [
      "Setting `pad_token_id` to `eos_token_id`:151645 for open-end generation.\n",
      "INFO:werkzeug:127.0.0.1 - - [06/Feb/2025 14:26:37] \"POST /ocr HTTP/1.1\" 200 -\n"
     ]
    },
    {
     "name": "stdout",
     "output_type": "stream",
     "text": [
      "Lưu lại địa chỉ bit.ly/anime47 moi để truy cập nhanh nhất khi trang web bị chặn!\n",
      "/content/uploads/00_07_14_767__00_07_17_228.jpg\n"
     ]
    },
    {
     "name": "stderr",
     "output_type": "stream",
     "text": [
      "Setting `pad_token_id` to `eos_token_id`:151645 for open-end generation.\n",
      "INFO:werkzeug:127.0.0.1 - - [06/Feb/2025 14:26:41] \"POST /ocr HTTP/1.1\" 200 -\n"
     ]
    },
    {
     "name": "stdout",
     "output_type": "stream",
     "text": [
      "Em không giống chị hai đâu.\n",
      "/content/uploads/00_07_17_228__00_07_18_563.jpg\n"
     ]
    },
    {
     "name": "stderr",
     "output_type": "stream",
     "text": [
      "Setting `pad_token_id` to `eos_token_id`:151645 for open-end generation.\n",
      "INFO:werkzeug:127.0.0.1 - - [06/Feb/2025 14:26:45] \"POST /ocr HTTP/1.1\" 200 -\n"
     ]
    },
    {
     "name": "stdout",
     "output_type": "stream",
     "text": [
      "Hế, \"chị hai\"?!\n",
      "/content/uploads/00_07_18_771__00_07_23_192.jpg\n"
     ]
    },
    {
     "name": "stderr",
     "output_type": "stream",
     "text": [
      "Setting `pad_token_id` to `eos_token_id`:151645 for open-end generation.\n",
      "INFO:werkzeug:127.0.0.1 - - [06/Feb/2025 14:26:52] \"POST /ocr HTTP/1.1\" 200 -\n"
     ]
    },
    {
     "name": "stdout",
     "output_type": "stream",
     "text": [
      "Rất vui được làm quen cô!\n",
      "Em là chị của Ikoma Murasaki, Ikoma Yuki ạ.\n",
      "/content/uploads/00_07_23_192__00_07_27_280.jpg\n"
     ]
    },
    {
     "name": "stderr",
     "output_type": "stream",
     "text": [
      "Setting `pad_token_id` to `eos_token_id`:151645 for open-end generation.\n",
      "INFO:werkzeug:127.0.0.1 - - [06/Feb/2025 14:26:59] \"POST /ocr HTTP/1.1\" 200 -\n"
     ]
    },
    {
     "name": "stdout",
     "output_type": "stream",
     "text": [
      "Um, nhưng cô tưởng chị của em đã qua đời?\n",
      "/content/uploads/00_07_27_280__00_07_29_240.jpg\n"
     ]
    },
    {
     "name": "stderr",
     "output_type": "stream",
     "text": [
      "Setting `pad_token_id` to `eos_token_id`:151645 for open-end generation.\n",
      "INFO:werkzeug:127.0.0.1 - - [06/Feb/2025 14:27:04] \"POST /ocr HTTP/1.1\" 200 -\n"
     ]
    },
    {
     "name": "stdout",
     "output_type": "stream",
     "text": [
      "Em không có nói là chị ấy đã chết.\n",
      "/content/uploads/00_07_29_824__00_07_33_202.jpg\n"
     ]
    },
    {
     "name": "stderr",
     "output_type": "stream",
     "text": [
      "Setting `pad_token_id` to `eos_token_id`:151645 for open-end generation.\n",
      "INFO:werkzeug:127.0.0.1 - - [06/Feb/2025 14:27:11] \"POST /ocr HTTP/1.1\" 200 -\n"
     ]
    },
    {
     "name": "stdout",
     "output_type": "stream",
     "text": [
      "Chị ấy là người thích đi lang thang mọi nơi trên thế giới.\n",
      "/content/uploads/00_07_33_202__00_07_36_080.jpg\n"
     ]
    },
    {
     "name": "stderr",
     "output_type": "stream",
     "text": [
      "Setting `pad_token_id` to `eos_token_id`:151645 for open-end generation.\n",
      "INFO:werkzeug:127.0.0.1 - - [06/Feb/2025 14:27:17] \"POST /ocr HTTP/1.1\" 200 -\n"
     ]
    },
    {
     "name": "stdout",
     "output_type": "stream",
     "text": [
      "Không một ai rõ nơi ở cụ thể của chị ấy.\n",
      "/content/uploads/00_07_36_080__00_07_39_834.jpg\n"
     ]
    },
    {
     "name": "stderr",
     "output_type": "stream",
     "text": [
      "Setting `pad_token_id` to `eos_token_id`:151645 for open-end generation.\n",
      "INFO:werkzeug:127.0.0.1 - - [06/Feb/2025 14:27:23] \"POST /ocr HTTP/1.1\" 200 -\n"
     ]
    },
    {
     "name": "stdout",
     "output_type": "stream",
     "text": [
      "Thôi nào, vì công việc nên chị phải tới những nơi không thể nói.\n",
      "/content/uploads/00_07_40_459__00_07_42_086.jpg\n"
     ]
    },
    {
     "name": "stderr",
     "output_type": "stream",
     "text": [
      "Setting `pad_token_id` to `eos_token_id`:151645 for open-end generation.\n",
      "INFO:werkzeug:127.0.0.1 - - [06/Feb/2025 14:27:27] \"POST /ocr HTTP/1.1\" 200 -\n"
     ]
    },
    {
     "name": "stdout",
     "output_type": "stream",
     "text": [
      "Vậy chị quay về đây làm gì?\n",
      "/content/uploads/00_07_43_212__00_07_44_881.jpg\n"
     ]
    },
    {
     "name": "stderr",
     "output_type": "stream",
     "text": [
      "Setting `pad_token_id` to `eos_token_id`:151645 for open-end generation.\n",
      "INFO:werkzeug:127.0.0.1 - - [06/Feb/2025 14:27:32] \"POST /ocr HTTP/1.1\" 200 -\n"
     ]
    },
    {
     "name": "stdout",
     "output_type": "stream",
     "text": [
      "Máy bay và tàu hỏa.\n",
      "/content/uploads/00_07_44_881__00_07_47_592.jpg\n"
     ]
    },
    {
     "name": "stderr",
     "output_type": "stream",
     "text": [
      "Setting `pad_token_id` to `eos_token_id`:151645 for open-end generation.\n",
      "INFO:werkzeug:127.0.0.1 - - [06/Feb/2025 14:27:37] \"POST /ocr HTTP/1.1\" 200 -\n"
     ]
    },
    {
     "name": "stdout",
     "output_type": "stream",
     "text": [
      "Chị đã bắt taxi từ ga tàu để đến đây!\n",
      "/content/uploads/00_07_47_592__00_07_49_886.jpg\n"
     ]
    },
    {
     "name": "stderr",
     "output_type": "stream",
     "text": [
      "Setting `pad_token_id` to `eos_token_id`:151645 for open-end generation.\n",
      "INFO:werkzeug:127.0.0.1 - - [06/Feb/2025 14:27:41] \"POST /ocr HTTP/1.1\" 200 -\n"
     ]
    },
    {
     "name": "stdout",
     "output_type": "stream",
     "text": [
      "Đó không phải là thứ em hỏi.\n",
      "/content/uploads/00_07_49_886__00_07_54_182.jpg\n"
     ]
    },
    {
     "name": "stderr",
     "output_type": "stream",
     "text": [
      "Setting `pad_token_id` to `eos_token_id`:151645 for open-end generation.\n",
      "INFO:werkzeug:127.0.0.1 - - [06/Feb/2025 14:27:48] \"POST /ocr HTTP/1.1\" 200 -\n"
     ]
    },
    {
     "name": "stdout",
     "output_type": "stream",
     "text": [
      "Chị không nên giải quyết vấn đề bằng tiền, không thì sẽ thành thói hư mất.\n",
      "/content/uploads/00_07_54_182__00_07_56_225.jpg\n"
     ]
    },
    {
     "name": "stderr",
     "output_type": "stream",
     "text": [
      "Setting `pad_token_id` to `eos_token_id`:151645 for open-end generation.\n",
      "INFO:werkzeug:127.0.0.1 - - [06/Feb/2025 14:27:52] \"POST /ocr HTTP/1.1\" 200 -\n"
     ]
    },
    {
     "name": "stdout",
     "output_type": "stream",
     "text": [
      "Chị hai!\n",
      "/content/uploads/00_07_58_102__00_08_00_938.jpg\n"
     ]
    },
    {
     "name": "stderr",
     "output_type": "stream",
     "text": [
      "Setting `pad_token_id` to `eos_token_id`:151645 for open-end generation.\n",
      "INFO:werkzeug:127.0.0.1 - - [06/Feb/2025 14:27:57] \"POST /ocr HTTP/1.1\" 200 -\n"
     ]
    },
    {
     "name": "stdout",
     "output_type": "stream",
     "text": [
      "Nào, đừng làm cái mặt đó chứ.\n",
      "/content/uploads/00_08_00_938__00_08_04_859.jpg\n"
     ]
    },
    {
     "name": "stderr",
     "output_type": "stream",
     "text": [
      "Setting `pad_token_id` to `eos_token_id`:151645 for open-end generation.\n",
      "INFO:werkzeug:127.0.0.1 - - [06/Feb/2025 14:28:04] \"POST /ocr HTTP/1.1\" 200 -\n"
     ]
    },
    {
     "name": "stdout",
     "output_type": "stream",
     "text": [
      "Chị biết em không thích chị và chị cũng không quan tâm em có thích không.\n",
      "/content/uploads/00_08_04_859__00_08_06_861.jpg\n"
     ]
    },
    {
     "name": "stderr",
     "output_type": "stream",
     "text": [
      "Setting `pad_token_id` to `eos_token_id`:151645 for open-end generation.\n",
      "INFO:werkzeug:127.0.0.1 - - [06/Feb/2025 14:28:10] \"POST /ocr HTTP/1.1\" 200 -\n"
     ]
    },
    {
     "name": "stdout",
     "output_type": "stream",
     "text": [
      "Nhưng chúng ta là chị em mà phải không?\n",
      "/content/uploads/00_08_08_154__00_08_09_614.jpg\n"
     ]
    },
    {
     "name": "stderr",
     "output_type": "stream",
     "text": [
      "Setting `pad_token_id` to `eos_token_id`:151645 for open-end generation.\n",
      "INFO:werkzeug:127.0.0.1 - - [06/Feb/2025 14:28:14] \"POST /ocr HTTP/1.1\" 200 -\n"
     ]
    },
    {
     "name": "stdout",
     "output_type": "stream",
     "text": [
      "Em biết.\n",
      "/content/uploads/00_08_11_532__00_08_13_326.jpg\n"
     ]
    },
    {
     "name": "stderr",
     "output_type": "stream",
     "text": [
      "Setting `pad_token_id` to `eos_token_id`:151645 for open-end generation.\n",
      "INFO:werkzeug:127.0.0.1 - - [06/Feb/2025 14:28:18] \"POST /ocr HTTP/1.1\" 200 -\n"
     ]
    },
    {
     "name": "stdout",
     "output_type": "stream",
     "text": [
      "Oh, Murasaki-san!\n",
      "/content/uploads/00_08_13_326__00_08_15_453.jpg\n"
     ]
    },
    {
     "name": "stderr",
     "output_type": "stream",
     "text": [
      "Setting `pad_token_id` to `eos_token_id`:151645 for open-end generation.\n",
      "INFO:werkzeug:127.0.0.1 - - [06/Feb/2025 14:28:23] \"POST /ocr HTTP/1.1\" 200 -\n"
     ]
    },
    {
     "name": "stdout",
     "output_type": "stream",
     "text": [
      "Không sao, cứ kệ nó đi.\n",
      "/content/uploads/00_08_15_453__00_08_16_370.jpg\n"
     ]
    },
    {
     "name": "stderr",
     "output_type": "stream",
     "text": [
      "Setting `pad_token_id` to `eos_token_id`:151645 for open-end generation.\n",
      "INFO:werkzeug:127.0.0.1 - - [06/Feb/2025 14:28:27] \"POST /ocr HTTP/1.1\" 200 -\n"
     ]
    },
    {
     "name": "stdout",
     "output_type": "stream",
     "text": [
      "Nhưng mà...\n",
      "/content/uploads/00_08_16_370__00_08_18_915.jpg\n"
     ]
    },
    {
     "name": "stderr",
     "output_type": "stream",
     "text": [
      "Setting `pad_token_id` to `eos_token_id`:151645 for open-end generation.\n",
      "INFO:werkzeug:127.0.0.1 - - [06/Feb/2025 14:28:32] \"POST /ocr HTTP/1.1\" 200 -\n"
     ]
    },
    {
     "name": "stdout",
     "output_type": "stream",
     "text": [
      "Em ấy không khỏi nhớ lại khoảng\n",
      "/content/uploads/00_08_18_915__00_08_22_376.jpg\n"
     ]
    },
    {
     "name": "stderr",
     "output_type": "stream",
     "text": [
      "Setting `pad_token_id` to `eos_token_id`:151645 for open-end generation.\n",
      "INFO:werkzeug:127.0.0.1 - - [06/Feb/2025 14:28:37] \"POST /ocr HTTP/1.1\" 200 -\n"
     ]
    },
    {
     "name": "stdout",
     "output_type": "stream",
     "text": [
      "Thời gian em ấy bất lực và yếu đuối khi nhìn thấy em.\n",
      "/content/uploads/00_08_22_376__00_08_25_254.jpg\n"
     ]
    },
    {
     "name": "stderr",
     "output_type": "stream",
     "text": [
      "Setting `pad_token_id` to `eos_token_id`:151645 for open-end generation.\n",
      "INFO:werkzeug:127.0.0.1 - - [06/Feb/2025 14:28:41] \"POST /ocr HTTP/1.1\" 200 -\n"
     ]
    },
    {
     "name": "stdout",
     "output_type": "stream",
     "text": [
      "Ký ức cũ của em ấy sao?\n",
      "/content/uploads/00_08_27_048__00_08_31_135.jpg\n"
     ]
    },
    {
     "name": "stderr",
     "output_type": "stream",
     "text": [
      "Setting `pad_token_id` to `eos_token_id`:151645 for open-end generation.\n",
      "INFO:werkzeug:127.0.0.1 - - [06/Feb/2025 14:28:48] \"POST /ocr HTTP/1.1\" 200 -\n"
     ]
    },
    {
     "name": "stdout",
     "output_type": "stream",
     "text": [
      "Có lẽ cô khó hiểu vì cô không có chị gái và người mẹ là một người rất đặc biệt.\n",
      "/content/uploads/00_08_31_385__00_08_32_094.jpg\n"
     ]
    },
    {
     "name": "stderr",
     "output_type": "stream",
     "text": [
      "Setting `pad_token_id` to `eos_token_id`:151645 for open-end generation.\n",
      "INFO:werkzeug:127.0.0.1 - - [06/Feb/2025 14:28:52] \"POST /ocr HTTP/1.1\" 200 -\n"
     ]
    },
    {
     "name": "stdout",
     "output_type": "stream",
     "text": [
      "Hể?\n",
      "/content/uploads/00_08_38_392__00_08_39_810.jpg\n"
     ]
    },
    {
     "name": "stderr",
     "output_type": "stream",
     "text": [
      "Setting `pad_token_id` to `eos_token_id`:151645 for open-end generation.\n",
      "INFO:werkzeug:127.0.0.1 - - [06/Feb/2025 14:28:56] \"POST /ocr HTTP/1.1\" 200 -\n"
     ]
    },
    {
     "name": "stdout",
     "output_type": "stream",
     "text": [
      "Này, Chris.\n",
      "/content/uploads/00_08_39_810__00_08_41_896.jpg\n"
     ]
    },
    {
     "name": "stderr",
     "output_type": "stream",
     "text": [
      "Setting `pad_token_id` to `eos_token_id`:151645 for open-end generation.\n",
      "INFO:werkzeug:127.0.0.1 - - [06/Feb/2025 14:29:00] \"POST /ocr HTTP/1.1\" 200 -\n"
     ]
    },
    {
     "name": "stdout",
     "output_type": "stream",
     "text": [
      "Vâng, sao vậy?\n",
      "/content/uploads/00_08_41_896__00_08_44_982.jpg\n"
     ]
    },
    {
     "name": "stderr",
     "output_type": "stream",
     "text": [
      "Setting `pad_token_id` to `eos_token_id`:151645 for open-end generation.\n",
      "INFO:werkzeug:127.0.0.1 - - [06/Feb/2025 14:29:06] \"POST /ocr HTTP/1.1\" 200 -\n"
     ]
    },
    {
     "name": "stdout",
     "output_type": "stream",
     "text": [
      "Cậu hay đến cửa hàng 100 yên phải không?\n",
      "/content/uploads/00_08_44_982__00_08_45_816.jpg\n"
     ]
    },
    {
     "name": "stderr",
     "output_type": "stream",
     "text": [
      "Setting `pad_token_id` to `eos_token_id`:151645 for open-end generation.\n",
      "INFO:werkzeug:127.0.0.1 - - [06/Feb/2025 14:29:10] \"POST /ocr HTTP/1.1\" 200 -\n"
     ]
    },
    {
     "name": "stdout",
     "output_type": "stream",
     "text": [
      "Vâng.\n",
      "/content/uploads/00_08_46_108__00_08_48_319.jpg\n"
     ]
    },
    {
     "name": "stderr",
     "output_type": "stream",
     "text": [
      "Setting `pad_token_id` to `eos_token_id`:151645 for open-end generation.\n",
      "INFO:werkzeug:127.0.0.1 - - [06/Feb/2025 14:29:17] \"POST /ocr HTTP/1.1\" 200 -\n"
     ]
    },
    {
     "name": "stdout",
     "output_type": "stream",
     "text": [
      "Cậu nghĩ họ có miếng ngực lót không?\n",
      "/content/uploads/00_08_48_569__00_08_51_280.jpg\n"
     ]
    },
    {
     "name": "stderr",
     "output_type": "stream",
     "text": [
      "Setting `pad_token_id` to `eos_token_id`:151645 for open-end generation.\n",
      "INFO:werkzeug:127.0.0.1 - - [06/Feb/2025 14:29:22] \"POST /ocr HTTP/1.1\" 200 -\n"
     ]
    },
    {
     "name": "stdout",
     "output_type": "stream",
     "text": [
      "Tớ không hiểu những gì cậu vừa nói,\n",
      "/content/uploads/00_08_51_280__00_08_53_950.jpg\n"
     ]
    },
    {
     "name": "stderr",
     "output_type": "stream",
     "text": [
      "Setting `pad_token_id` to `eos_token_id`:151645 for open-end generation.\n",
      "INFO:werkzeug:127.0.0.1 - - [06/Feb/2025 14:29:28] \"POST /ocr HTTP/1.1\" 200 -\n"
     ]
    },
    {
     "name": "stdout",
     "output_type": "stream",
     "text": [
      "nhưng nó có nghĩa là xâm hại tình dục đó.\n",
      "/content/uploads/00_08_53_950__00_08_56_953.jpg\n"
     ]
    },
    {
     "name": "stderr",
     "output_type": "stream",
     "text": [
      "Setting `pad_token_id` to `eos_token_id`:151645 for open-end generation.\n",
      "INFO:werkzeug:127.0.0.1 - - [06/Feb/2025 14:29:33] \"POST /ocr HTTP/1.1\" 200 -\n"
     ]
    },
    {
     "name": "stdout",
     "output_type": "stream",
     "text": [
      "Thế à? Vậy hãy nghe tớ đây.\n",
      "/content/uploads/00_08_56_953__00_08_58_955.jpg\n"
     ]
    },
    {
     "name": "stderr",
     "output_type": "stream",
     "text": [
      "Setting `pad_token_id` to `eos_token_id`:151645 for open-end generation.\n",
      "INFO:werkzeug:127.0.0.1 - - [06/Feb/2025 14:29:39] \"POST /ocr HTTP/1.1\" 200 -\n"
     ]
    },
    {
     "name": "stdout",
     "output_type": "stream",
     "text": [
      "Nhưng khi nói về xâm hại tình dục thì...\n",
      "/content/uploads/00_08_59_622__00_09_02_833.jpg\n"
     ]
    },
    {
     "name": "stderr",
     "output_type": "stream",
     "text": [
      "Setting `pad_token_id` to `eos_token_id`:151645 for open-end generation.\n",
      "INFO:werkzeug:127.0.0.1 - - [06/Feb/2025 14:29:45] \"POST /ocr HTTP/1.1\" 200 -\n"
     ]
    },
    {
     "name": "stdout",
     "output_type": "stream",
     "text": [
      "Tình hình của tớ có được tính không vậy?\n",
      "/content/uploads/00_08_58_955__00_09_04_085.jpg\n"
     ]
    },
    {
     "name": "stderr",
     "output_type": "stream",
     "text": [
      "Setting `pad_token_id` to `eos_token_id`:151645 for open-end generation.\n",
      "INFO:werkzeug:127.0.0.1 - - [06/Feb/2025 14:29:50] \"POST /ocr HTTP/1.1\" 200 -\n"
     ]
    },
    {
     "name": "stdout",
     "output_type": "stream",
     "text": [
      "Chà, chà! Bóp, bóp!\n",
      "/content/uploads/00_09_03_000__00_09_07_838.jpg\n"
     ]
    },
    {
     "name": "stderr",
     "output_type": "stream",
     "text": [
      "Setting `pad_token_id` to `eos_token_id`:151645 for open-end generation.\n",
      "INFO:werkzeug:127.0.0.1 - - [06/Feb/2025 14:29:56] \"POST /ocr HTTP/1.1\" 200 -\n"
     ]
    },
    {
     "name": "stdout",
     "output_type": "stream",
     "text": [
      "Là con gái, thì điều này nghe có vẻ ích kỷ. Nhưng tớ tin là cậu rất may mắn đó.\n",
      "/content/uploads/00_09_07_838__00_09_12_218.jpg\n"
     ]
    },
    {
     "name": "stderr",
     "output_type": "stream",
     "text": [
      "Setting `pad_token_id` to `eos_token_id`:151645 for open-end generation.\n",
      "INFO:werkzeug:127.0.0.1 - - [06/Feb/2025 14:30:02] \"POST /ocr HTTP/1.1\" 200 -\n"
     ]
    },
    {
     "name": "stdout",
     "output_type": "stream",
     "text": [
      "C-Cái gì thế này?!\n",
      "T-tôi là một con quái vật mắt hồng!\n",
      "/content/uploads/00_09_12_218__00_09_13_594.jpg\n"
     ]
    },
    {
     "name": "stderr",
     "output_type": "stream",
     "text": [
      "Setting `pad_token_id` to `eos_token_id`:151645 for open-end generation.\n",
      "INFO:werkzeug:127.0.0.1 - - [06/Feb/2025 14:30:06] \"POST /ocr HTTP/1.1\" 200 -\n"
     ]
    },
    {
     "name": "stdout",
     "output_type": "stream",
     "text": [
      "Là \"mắt xanh lục.\"\n",
      "/content/uploads/00_09_13_970__00_09_15_429.jpg\n"
     ]
    },
    {
     "name": "stderr",
     "output_type": "stream",
     "text": [
      "Setting `pad_token_id` to `eos_token_id`:151645 for open-end generation.\n",
      "INFO:werkzeug:127.0.0.1 - - [06/Feb/2025 14:30:10] \"POST /ocr HTTP/1.1\" 200 -\n"
     ]
    },
    {
     "name": "stdout",
     "output_type": "stream",
     "text": [
      "Cơ mà cô là ai?!\n",
      "/content/uploads/00_09_15_429__00_09_17_848.jpg\n"
     ]
    },
    {
     "name": "stderr",
     "output_type": "stream",
     "text": [
      "Setting `pad_token_id` to `eos_token_id`:151645 for open-end generation.\n",
      "INFO:werkzeug:127.0.0.1 - - [06/Feb/2025 14:30:17] \"POST /ocr HTTP/1.1\" 200 -\n"
     ]
    },
    {
     "name": "stdout",
     "output_type": "stream",
     "text": [
      "Sao cậu luôn thu hút những cô kỳ lạ thế?\n",
      "/content/uploads/00_09_18_099__00_09_20_351.jpg\n"
     ]
    },
    {
     "name": "stderr",
     "output_type": "stream",
     "text": [
      "Setting `pad_token_id` to `eos_token_id`:151645 for open-end generation.\n",
      "INFO:werkzeug:127.0.0.1 - - [06/Feb/2025 14:30:22] \"POST /ocr HTTP/1.1\" 200 -\n"
     ]
    },
    {
     "name": "stdout",
     "output_type": "stream",
     "text": [
      "Hai cậu vẫn chưa biết chị ấy nhỉ?\n",
      "/content/uploads/00_09_20_768__00_09_24_021.jpg\n"
     ]
    },
    {
     "name": "stderr",
     "output_type": "stream",
     "text": [
      "Setting `pad_token_id` to `eos_token_id`:151645 for open-end generation.\n",
      "INFO:werkzeug:127.0.0.1 - - [06/Feb/2025 14:30:26] \"POST /ocr HTTP/1.1\" 200 -\n"
     ]
    },
    {
     "name": "stdout",
     "output_type": "stream",
     "text": [
      "Tôi là Ikoma Yuki, một ninja.\n",
      "/content/uploads/00_09_24_021__00_09_27_108.jpg\n"
     ]
    },
    {
     "name": "stderr",
     "output_type": "stream",
     "text": [
      "Setting `pad_token_id` to `eos_token_id`:151645 for open-end generation.\n",
      "INFO:werkzeug:127.0.0.1 - - [06/Feb/2025 14:30:31] \"POST /ocr HTTP/1.1\" 200 -\n"
     ]
    },
    {
     "name": "stdout",
     "output_type": "stream",
     "text": [
      "Chúng tôi sẽ kết hôn đó!\n",
      "/content/uploads/00_09_28_317__00_09_29_735.jpg\n"
     ]
    },
    {
     "name": "stderr",
     "output_type": "stream",
     "text": [
      "Setting `pad_token_id` to `eos_token_id`:151645 for open-end generation.\n",
      "INFO:werkzeug:127.0.0.1 - - [06/Feb/2025 14:30:35] \"POST /ocr HTTP/1.1\" 200 -\n"
     ]
    },
    {
     "name": "stdout",
     "output_type": "stream",
     "text": [
      "Khoan... kết hôn?\n",
      "/content/uploads/00_09_27_108__00_09_29_735.jpg\n"
     ]
    },
    {
     "name": "stderr",
     "output_type": "stream",
     "text": [
      "Setting `pad_token_id` to `eos_token_id`:151645 for open-end generation.\n",
      "INFO:werkzeug:127.0.0.1 - - [06/Feb/2025 14:30:39] \"POST /ocr HTTP/1.1\" 200 -\n"
     ]
    },
    {
     "name": "stdout",
     "output_type": "stream",
     "text": [
      "UẾ?\n",
      "/content/uploads/00_09_30_194__00_09_33_948.jpg\n"
     ]
    },
    {
     "name": "stderr",
     "output_type": "stream",
     "text": [
      "Setting `pad_token_id` to `eos_token_id`:151645 for open-end generation.\n",
      "INFO:werkzeug:127.0.0.1 - - [06/Feb/2025 14:30:44] \"POST /ocr HTTP/1.1\" 200 -\n"
     ]
    },
    {
     "name": "stdout",
     "output_type": "stream",
     "text": [
      "Chị ấy lừa đó, tớ cũng vừa bị một vô xong.\n",
      "/content/uploads/00_09_33_948__00_09_35_616.jpg\n"
     ]
    },
    {
     "name": "stderr",
     "output_type": "stream",
     "text": [
      "Setting `pad_token_id` to `eos_token_id`:151645 for open-end generation.\n",
      "INFO:werkzeug:127.0.0.1 - - [06/Feb/2025 14:30:48] \"POST /ocr HTTP/1.1\" 200 -\n"
     ]
    },
    {
     "name": "stdout",
     "output_type": "stream",
     "text": [
      "Giật hết cả mình luôn!\n",
      "/content/uploads/00_09_35_616__00_09_38_327.jpg\n"
     ]
    },
    {
     "name": "stderr",
     "output_type": "stream",
     "text": [
      "Setting `pad_token_id` to `eos_token_id`:151645 for open-end generation.\n",
      "INFO:werkzeug:127.0.0.1 - - [06/Feb/2025 14:30:53] \"POST /ocr HTTP/1.1\" 200 -\n"
     ]
    },
    {
     "name": "stdout",
     "output_type": "stream",
     "text": [
      "Sao cô lại đùa kiểu thế hả?\n",
      "/content/uploads/00_09_38_327__00_09_39_620.jpg\n"
     ]
    },
    {
     "name": "stderr",
     "output_type": "stream",
     "text": [
      "Setting `pad_token_id` to `eos_token_id`:151645 for open-end generation.\n",
      "INFO:werkzeug:127.0.0.1 - - [06/Feb/2025 14:30:57] \"POST /ocr HTTP/1.1\" 200 -\n"
     ]
    },
    {
     "name": "stdout",
     "output_type": "stream",
     "text": [
      "Bởi vì tôi là một ninja.\n",
      "/content/uploads/00_09_39_996__00_09_42_248.jpg\n"
     ]
    },
    {
     "name": "stderr",
     "output_type": "stream",
     "text": [
      "Setting `pad_token_id` to `eos_token_id`:151645 for open-end generation.\n",
      "INFO:werkzeug:127.0.0.1 - - [06/Feb/2025 14:31:02] \"POST /ocr HTTP/1.1\" 200 -\n"
     ]
    },
    {
     "name": "stdout",
     "output_type": "stream",
     "text": [
      "Một ninja với cái tên \"Ikoma\", tức là...\n",
      "/content/uploads/00_09_42_665__00_09_46_627.jpg\n"
     ]
    },
    {
     "name": "stderr",
     "output_type": "stream",
     "text": [
      "Setting `pad_token_id` to `eos_token_id`:151645 for open-end generation.\n",
      "INFO:werkzeug:127.0.0.1 - - [06/Feb/2025 14:31:08] \"POST /ocr HTTP/1.1\" 200 -\n"
     ]
    },
    {
     "name": "stdout",
     "output_type": "stream",
     "text": [
      "Yukki là chị gái của Murasaki, một học sinh lâu đời của CIRS.\n",
      "/content/uploads/00_09_46_627__00_09_49_880.jpg\n"
     ]
    },
    {
     "name": "stderr",
     "output_type": "stream",
     "text": [
      "Setting `pad_token_id` to `eos_token_id`:151645 for open-end generation.\n",
      "INFO:werkzeug:127.0.0.1 - - [06/Feb/2025 14:31:14] \"POST /ocr HTTP/1.1\" 200 -\n"
     ]
    },
    {
     "name": "stdout",
     "output_type": "stream",
     "text": [
      "Tại sao chị vẫn chưa tốt nghiệp nếu đã ở học viện lâu như vậy?\n",
      "/content/uploads/00_09_49_880__00_09_54_010.jpg\n"
     ]
    },
    {
     "name": "stderr",
     "output_type": "stream",
     "text": [
      "Setting `pad_token_id` to `eos_token_id`:151645 for open-end generation.\n",
      "INFO:werkzeug:127.0.0.1 - - [06/Feb/2025 14:31:21] \"POST /ocr HTTP/1.1\" 200 -\n"
     ]
    },
    {
     "name": "stdout",
     "output_type": "stream",
     "text": [
      "Đơn giản là, chị không có đủ tiền vì hay đi nước ngoài nhiều.\n",
      "/content/uploads/00_09_54_302__00_09_57_763.jpg\n"
     ]
    },
    {
     "name": "stderr",
     "output_type": "stream",
     "text": [
      "Setting `pad_token_id` to `eos_token_id`:151645 for open-end generation.\n",
      "INFO:werkzeug:127.0.0.1 - - [06/Feb/2025 14:31:28] \"POST /ocr HTTP/1.1\" 200 -\n"
     ]
    },
    {
     "name": "stdout",
     "output_type": "stream",
     "text": [
      "Mau dừng ngay việc úp ngực lên Master đi! Chị bị làm sao vậy!!\n",
      "/content/uploads/00_09_58_848__00_10_00_308.jpg\n"
     ]
    },
    {
     "name": "stderr",
     "output_type": "stream",
     "text": [
      "Setting `pad_token_id` to `eos_token_id`:151645 for open-end generation.\n",
      "INFO:werkzeug:127.0.0.1 - - [06/Feb/2025 14:31:32] \"POST /ocr HTTP/1.1\" 200 -\n"
     ]
    },
    {
     "name": "stdout",
     "output_type": "stream",
     "text": [
      "Đã bảo đó là Murasaki\n",
      "/content/uploads/00_10_00_308__00_10_03_769.jpg\n"
     ]
    },
    {
     "name": "stderr",
     "output_type": "stream",
     "text": [
      "Setting `pad_token_id` to `eos_token_id`:151645 for open-end generation.\n",
      "INFO:werkzeug:127.0.0.1 - - [06/Feb/2025 14:31:38] \"POST /ocr HTTP/1.1\" 200 -\n"
     ]
    },
    {
     "name": "stdout",
     "output_type": "stream",
     "text": [
      "Không quan tâm, thế còn cái bộ ngực đó thì sao?\n",
      "/content/uploads/00_10_07_064__00_10_09_900.jpg\n"
     ]
    },
    {
     "name": "stderr",
     "output_type": "stream",
     "text": [
      "Setting `pad_token_id` to `eos_token_id`:151645 for open-end generation.\n",
      "INFO:werkzeug:127.0.0.1 - - [06/Feb/2025 14:31:43] \"POST /ocr HTTP/1.1\" 200 -\n"
     ]
    },
    {
     "name": "stdout",
     "output_type": "stream",
     "text": [
      "Cũng đã lâu rồi không thấy chị, trông chị vẫn như vậy.\n",
      "/content/uploads/00_10_09_900__00_10_11_277.jpg\n"
     ]
    },
    {
     "name": "stderr",
     "output_type": "stream",
     "text": [
      "Setting `pad_token_id` to `eos_token_id`:151645 for open-end generation.\n",
      "INFO:werkzeug:127.0.0.1 - - [06/Feb/2025 14:31:47] \"POST /ocr HTTP/1.1\" 200 -\n"
     ]
    },
    {
     "name": "stdout",
     "output_type": "stream",
     "text": [
      "Vậy sao?\n",
      "/content/uploads/00_10_11_277__00_10_13_321.jpg\n"
     ]
    },
    {
     "name": "stderr",
     "output_type": "stream",
     "text": [
      "Setting `pad_token_id` to `eos_token_id`:151645 for open-end generation.\n",
      "INFO:werkzeug:127.0.0.1 - - [06/Feb/2025 14:31:53] \"POST /ocr HTTP/1.1\" 200 -\n"
     ]
    },
    {
     "name": "stdout",
     "output_type": "stream",
     "text": [
      "Chị đã trở nên phiền phức hơn trước.\n",
      "/content/uploads/00_10_13_321__00_10_15_156.jpg\n"
     ]
    },
    {
     "name": "stderr",
     "output_type": "stream",
     "text": [
      "Setting `pad_token_id` to `eos_token_id`:151645 for open-end generation.\n",
      "INFO:werkzeug:127.0.0.1 - - [06/Feb/2025 14:31:57] \"POST /ocr HTTP/1.1\" 200 -\n"
     ]
    },
    {
     "name": "stdout",
     "output_type": "stream",
     "text": [
      "Ể, sao độc miệng vậy?\n",
      "/content/uploads/00_10_15_448__00_10_18_951.jpg\n"
     ]
    },
    {
     "name": "stderr",
     "output_type": "stream",
     "text": [
      "Setting `pad_token_id` to `eos_token_id`:151645 for open-end generation.\n",
      "INFO:werkzeug:127.0.0.1 - - [06/Feb/2025 14:32:03] \"POST /ocr HTTP/1.1\" 200 -\n"
     ]
    },
    {
     "name": "stdout",
     "output_type": "stream",
     "text": [
      "Và chị cũng không phát ra những tiếng đó.\n",
      "/content/uploads/00_10_18_951__00_10_22_747.jpg\n"
     ]
    },
    {
     "name": "stderr",
     "output_type": "stream",
     "text": [
      "Setting `pad_token_id` to `eos_token_id`:151645 for open-end generation.\n",
      "INFO:werkzeug:127.0.0.1 - - [06/Feb/2025 14:32:09] \"POST /ocr HTTP/1.1\" 200 -\n"
     ]
    },
    {
     "name": "stdout",
     "output_type": "stream",
     "text": [
      "A Chị đã thay đổi tính cách bảy lần, kể từ lần cuối gặp cậu.\n",
      "/content/uploads/00_10_22_747__00_10_24_790.jpg\n"
     ]
    },
    {
     "name": "stderr",
     "output_type": "stream",
     "text": [
      "Setting `pad_token_id` to `eos_token_id`:151645 for open-end generation.\n",
      "INFO:werkzeug:127.0.0.1 - - [06/Feb/2025 14:32:13] \"POST /ocr HTTP/1.1\" 200 -\n"
     ]
    },
    {
     "name": "stdout",
     "output_type": "stream",
     "text": [
      "nên cũng không nhớ rõ lắm.\n",
      "/content/uploads/00_10_24_999__00_10_27_335.jpg\n"
     ]
    },
    {
     "name": "stderr",
     "output_type": "stream",
     "text": [
      "Setting `pad_token_id` to `eos_token_id`:151645 for open-end generation.\n",
      "INFO:werkzeug:127.0.0.1 - - [06/Feb/2025 14:32:18] \"POST /ocr HTTP/1.1\" 200 -\n"
     ]
    },
    {
     "name": "stdout",
     "output_type": "stream",
     "text": [
      "Haruto thích tính cách nào của chị nè?\n",
      "/content/uploads/00_10_27_335__00_10_30_546.jpg\n"
     ]
    },
    {
     "name": "stderr",
     "output_type": "stream",
     "text": [
      "Setting `pad_token_id` to `eos_token_id`:151645 for open-end generation.\n",
      "INFO:werkzeug:127.0.0.1 - - [06/Feb/2025 14:32:24] \"POST /ocr HTTP/1.1\" 200 -\n"
     ]
    },
    {
     "name": "stdout",
     "output_type": "stream",
     "text": [
      "Hmm, tính cách nào em cũng thích.\n",
      "/content/uploads/00_10_30_880__00_10_35_301.jpg\n"
     ]
    },
    {
     "name": "stderr",
     "output_type": "stream",
     "text": [
      "Setting `pad_token_id` to `eos_token_id`:151645 for open-end generation.\n",
      "INFO:werkzeug:127.0.0.1 - - [06/Feb/2025 14:32:29] \"POST /ocr HTTP/1.1\" 200 -\n"
     ]
    },
    {
     "name": "stdout",
     "output_type": "stream",
     "text": [
      "Nhưng nếu được chọn thì sẽ là cái đầu tiên, khi lần đầu gặp chị.\n",
      "/content/uploads/00_10_35_301__00_10_39_764.jpg\n"
     ]
    },
    {
     "name": "stderr",
     "output_type": "stream",
     "text": [
      "Setting `pad_token_id` to `eos_token_id`:151645 for open-end generation.\n",
      "INFO:werkzeug:127.0.0.1 - - [06/Feb/2025 14:32:34] \"POST /ocr HTTP/1.1\" 200 -\n"
     ]
    },
    {
     "name": "stdout",
     "output_type": "stream",
     "text": [
      "Ừm, xin lỗi nha. Chị hồi đó trông ra sao vậy?\n",
      "/content/uploads/00_10_39_764__00_10_41_932.jpg\n"
     ]
    },
    {
     "name": "stderr",
     "output_type": "stream",
     "text": [
      "Setting `pad_token_id` to `eos_token_id`:151645 for open-end generation.\n",
      "INFO:werkzeug:127.0.0.1 - - [06/Feb/2025 14:32:38] \"POST /ocr HTTP/1.1\" 200 -\n"
     ]
    },
    {
     "name": "stdout",
     "output_type": "stream",
     "text": [
      "Rất tốt bụng ạ.\n",
      "/content/uploads/00_10_42_099__00_10_43_476.jpg\n"
     ]
    },
    {
     "name": "stderr",
     "output_type": "stream",
     "text": [
      "Setting `pad_token_id` to `eos_token_id`:151645 for open-end generation.\n",
      "INFO:werkzeug:127.0.0.1 - - [06/Feb/2025 14:32:43] \"POST /ocr HTTP/1.1\" 200 -\n"
     ]
    },
    {
     "name": "stdout",
     "output_type": "stream",
     "text": [
      "Nếu được phép quỳ xuống\n",
      "/content/uploads/00_10_43_476__00_10_46_062.jpg\n"
     ]
    },
    {
     "name": "stderr",
     "output_type": "stream",
     "text": [
      "Setting `pad_token_id` to `eos_token_id`:151645 for open-end generation.\n",
      "INFO:werkzeug:127.0.0.1 - - [06/Feb/2025 14:32:50] \"POST /ocr HTTP/1.1\" 200 -\n"
     ]
    },
    {
     "name": "stdout",
     "output_type": "stream",
     "text": [
      "em sẽ làm khi thấy tính cách nữ thần đó của chị.\n",
      "/content/uploads/00_10_46_645__00_10_50_316.jpg\n"
     ]
    },
    {
     "name": "stderr",
     "output_type": "stream",
     "text": [
      "Setting `pad_token_id` to `eos_token_id`:151645 for open-end generation.\n",
      "INFO:werkzeug:127.0.0.1 - - [06/Feb/2025 14:32:57] \"POST /ocr HTTP/1.1\" 200 -\n"
     ]
    },
    {
     "name": "stdout",
     "output_type": "stream",
     "text": [
      "Cậu không lợi dụng chị mất trí để nói dối đâu nhỉ?\n",
      "/content/uploads/00_10_50_900__00_10_53_653.jpg\n"
     ]
    },
    {
     "name": "stderr",
     "output_type": "stream",
     "text": [
      "Setting `pad_token_id` to `eos_token_id`:151645 for open-end generation.\n",
      "INFO:werkzeug:127.0.0.1 - - [06/Feb/2025 14:33:02] \"POST /ocr HTTP/1.1\" 200 -\n"
     ]
    },
    {
     "name": "stdout",
     "output_type": "stream",
     "text": [
      "Cũng là một cách để em khen chị đó.\n",
      "/content/uploads/00_10_54_362__00_10_56_197.jpg\n"
     ]
    },
    {
     "name": "stderr",
     "output_type": "stream",
     "text": [
      "Setting `pad_token_id` to `eos_token_id`:151645 for open-end generation.\n",
      "INFO:werkzeug:127.0.0.1 - - [06/Feb/2025 14:33:07] \"POST /ocr HTTP/1.1\" 200 -\n"
     ]
    },
    {
     "name": "stdout",
     "output_type": "stream",
     "text": [
      "Đã trở về rồi sao, tên vô lại.\n",
      "/content/uploads/00_10_56_405__00_11_00_576.jpg\n"
     ]
    },
    {
     "name": "stderr",
     "output_type": "stream",
     "text": [
      "Setting `pad_token_id` to `eos_token_id`:151645 for open-end generation.\n",
      "INFO:werkzeug:127.0.0.1 - - [06/Feb/2025 14:33:13] \"POST /ocr HTTP/1.1\" 200 -\n"
     ]
    },
    {
     "name": "stdout",
     "output_type": "stream",
     "text": [
      "Còn ngai thì vẫn là tên chuột chũi trốn trên tháp chỉ huy nhỉ, Iccchan.\n",
      "/content/uploads/00_11_00_576__00_11_02_578.jpg\n"
     ]
    },
    {
     "name": "stderr",
     "output_type": "stream",
     "text": [
      "Setting `pad_token_id` to `eos_token_id`:151645 for open-end generation.\n",
      "INFO:werkzeug:127.0.0.1 - - [06/Feb/2025 14:33:17] \"POST /ocr HTTP/1.1\" 200 -\n"
     ]
    },
    {
     "name": "stdout",
     "output_type": "stream",
     "text": [
      "Cậu cũng đến sao?\n",
      "/content/uploads/00_11_02_578__00_11_03_704.jpg\n"
     ]
    },
    {
     "name": "stderr",
     "output_type": "stream",
     "text": [
      "Setting `pad_token_id` to `eos_token_id`:151645 for open-end generation.\n",
      "INFO:werkzeug:127.0.0.1 - - [06/Feb/2025 14:33:21] \"POST /ocr HTTP/1.1\" 200 -\n"
     ]
    },
    {
     "name": "stdout",
     "output_type": "stream",
     "text": [
      "Hở?\n",
      "/content/uploads/00_11_03_704__00_11_06_957.jpg\n"
     ]
    },
    {
     "name": "stderr",
     "output_type": "stream",
     "text": [
      "Setting `pad_token_id` to `eos_token_id`:151645 for open-end generation.\n",
      "INFO:werkzeug:127.0.0.1 - - [06/Feb/2025 14:33:27] \"POST /ocr HTTP/1.1\" 200 -\n"
     ]
    },
    {
     "name": "stdout",
     "output_type": "stream",
     "text": [
      "Thôi không có gì. Rồi chuyện sẽ đến tai cậu thôi.\n",
      "/content/uploads/00_11_06_957__00_11_08_459.jpg\n"
     ]
    },
    {
     "name": "stderr",
     "output_type": "stream",
     "text": [
      "Setting `pad_token_id` to `eos_token_id`:151645 for open-end generation.\n",
      "INFO:werkzeug:127.0.0.1 - - [06/Feb/2025 14:33:31] \"POST /ocr HTTP/1.1\" 200 -\n"
     ]
    },
    {
     "name": "stdout",
     "output_type": "stream",
     "text": [
      "Chuyện gì ạ?\n",
      "/content/uploads/00_11_08_668__00_11_12_213.jpg\n"
     ]
    },
    {
     "name": "stderr",
     "output_type": "stream",
     "text": [
      "Setting `pad_token_id` to `eos_token_id`:151645 for open-end generation.\n",
      "INFO:werkzeug:127.0.0.1 - - [06/Feb/2025 14:33:37] \"POST /ocr HTTP/1.1\" 200 -\n"
     ]
    },
    {
     "name": "stdout",
     "output_type": "stream",
     "text": [
      "Báo cáo của Yukki về thông tin đã thu thập được trên khắp thế giới.\n",
      "/content/uploads/00_11_13_005__00_11_17_009.jpg\n"
     ]
    },
    {
     "name": "stderr",
     "output_type": "stream",
     "text": [
      "Setting `pad_token_id` to `eos_token_id`:151645 for open-end generation.\n",
      "INFO:werkzeug:127.0.0.1 - - [06/Feb/2025 14:33:41] \"POST /ocr HTTP/1.1\" 200 -\n"
     ]
    },
    {
     "name": "stdout",
     "output_type": "stream",
     "text": [
      "Tôi hiểu rồi.\n",
      "/content/uploads/00_11_17_009__00_11_19_470.jpg\n"
     ]
    },
    {
     "name": "stderr",
     "output_type": "stream",
     "text": [
      "Setting `pad_token_id` to `eos_token_id`:151645 for open-end generation.\n",
      "INFO:werkzeug:127.0.0.1 - - [06/Feb/2025 14:33:46] \"POST /ocr HTTP/1.1\" 200 -\n"
     ]
    },
    {
     "name": "stdout",
     "output_type": "stream",
     "text": [
      "Là từ viết tắt của \"The Fatal Answer.\"\n",
      "/content/uploads/00_11_19_470__00_11_23_974.jpg\n"
     ]
    },
    {
     "name": "stderr",
     "output_type": "stream",
     "text": [
      "Setting `pad_token_id` to `eos_token_id`:151645 for open-end generation.\n",
      "INFO:werkzeug:127.0.0.1 - - [06/Feb/2025 14:33:52] \"POST /ocr HTTP/1.1\" 200 -\n"
     ]
    },
    {
     "name": "stdout",
     "output_type": "stream",
     "text": [
      "Ah, là tổ chức đăng sau những kẻ ngu ngốc đã chiếm giữ Đại học Kitacoka.\n",
      "/content/uploads/00_11_24_517__00_11_28_979.jpg\n"
     ]
    },
    {
     "name": "stderr",
     "output_type": "stream",
     "text": [
      "Setting `pad_token_id` to `eos_token_id`:151645 for open-end generation.\n",
      "INFO:werkzeug:127.0.0.1 - - [06/Feb/2025 14:34:00] \"POST /ocr HTTP/1.1\" 200 -\n"
     ]
    },
    {
     "name": "stdout",
     "output_type": "stream",
     "text": [
      "Có vẻ như giáo phái này sở hữu một vùng đất rộng lớn ở một nơi xa xôi tại Texas.\n",
      "/content/uploads/00_11_28_979__00_11_32_775.jpg\n"
     ]
    },
    {
     "name": "stderr",
     "output_type": "stream",
     "text": [
      "Setting `pad_token_id` to `eos_token_id`:151645 for open-end generation.\n",
      "INFO:werkzeug:127.0.0.1 - - [06/Feb/2025 14:34:07] \"POST /ocr HTTP/1.1\" 200 -\n"
     ]
    },
    {
     "name": "stdout",
     "output_type": "stream",
     "text": [
      "Và họ đang kêu gọi chính phủ biến phần đất đó thành một quốc gia tự do.\n",
      "/content/uploads/00_11_32_775__00_11_36_779.jpg\n"
     ]
    },
    {
     "name": "stderr",
     "output_type": "stream",
     "text": [
      "Setting `pad_token_id` to `eos_token_id`:151645 for open-end generation.\n",
      "INFO:werkzeug:127.0.0.1 - - [06/Feb/2025 14:34:14] \"POST /ocr HTTP/1.1\" 200 -\n"
     ]
    },
    {
     "name": "stdout",
     "output_type": "stream",
     "text": [
      "Nhưng những gì nằm dưới lòng đất là kho lưu trữ của một tổ chức tội phạm,\n",
      "/content/uploads/00_11_36_779__00_11_39_240.jpg\n"
     ]
    },
    {
     "name": "stderr",
     "output_type": "stream",
     "text": [
      "Setting `pad_token_id` to `eos_token_id`:151645 for open-end generation.\n",
      "INFO:werkzeug:127.0.0.1 - - [06/Feb/2025 14:34:20] \"POST /ocr HTTP/1.1\" 200 -\n"
     ]
    },
    {
     "name": "stdout",
     "output_type": "stream",
     "text": [
      "buôn ma túy và hàng hóa quân sự chợ đen.\n",
      "/content/uploads/00_11_39_907__00_11_40_074.jpg\n"
     ]
    },
    {
     "name": "stderr",
     "output_type": "stream",
     "text": [
      "Setting `pad_token_id` to `eos_token_id`:151645 for open-end generation.\n",
      "INFO:werkzeug:127.0.0.1 - - [06/Feb/2025 14:34:25] \"POST /ocr HTTP/1.1\" 200 -\n"
     ]
    },
    {
     "name": "stdout",
     "output_type": "stream",
     "text": [
      "Đó là nơi họ đang giữ Vi-rút Filo à?\n",
      "/content/uploads/00_11_40_074__00_11_41_033.jpg\n"
     ]
    },
    {
     "name": "stderr",
     "output_type": "stream",
     "text": [
      "Setting `pad_token_id` to `eos_token_id`:151645 for open-end generation.\n",
      "INFO:werkzeug:127.0.0.1 - - [06/Feb/2025 14:34:32] \"POST /ocr HTTP/1.1\" 200 -\n"
     ]
    },
    {
     "name": "stdout",
     "output_type": "stream",
     "text": [
      "Trông như thế nhưng chị ấy là thành viên của Phantom Trigger.\n",
      "/content/uploads/00_11_41_033__00_11_43_869.jpg\n"
     ]
    },
    {
     "name": "stderr",
     "output_type": "stream",
     "text": [
      "Setting `pad_token_id` to `eos_token_id`:151645 for open-end generation.\n",
      "INFO:werkzeug:127.0.0.1 - - [06/Feb/2025 14:34:39] \"POST /ocr HTTP/1.1\" 200 -\n"
     ]
    },
    {
     "name": "stdout",
     "output_type": "stream",
     "text": [
      "Vậy ngài hiệu trưởng và Nogami-sensei...\n",
      "/content/uploads/00_11_43_869__00_11_48_666.jpg\n"
     ]
    },
    {
     "name": "stderr",
     "output_type": "stream",
     "text": [
      "Setting `pad_token_id` to `eos_token_id`:151645 for open-end generation.\n",
      "INFO:werkzeug:127.0.0.1 - - [06/Feb/2025 14:34:47] \"POST /ocr HTTP/1.1\" 200 -\n"
     ]
    },
    {
     "name": "stdout",
     "output_type": "stream",
     "text": [
      "Ukawa Chihiro của Kyosen Sakuragoka, và cả Sengoku Ayame của St. Yale nữa.\n",
      "/content/uploads/00_11_48_666__00_11_48_958.jpg\n"
     ]
    },
    {
     "name": "stderr",
     "output_type": "stream",
     "text": [
      "Setting `pad_token_id` to `eos_token_id`:151645 for open-end generation.\n",
      "INFO:werkzeug:127.0.0.1 - - [06/Feb/2025 14:34:52] \"POST /ocr HTTP/1.1\" 200 -\n"
     ]
    },
    {
     "name": "stdout",
     "output_type": "stream",
     "text": [
      "Không nhận diện được bất kỳ chữ nào trong ảnh.\n",
      "/content/uploads/00_11_48_958__00_11_49_208.jpg\n"
     ]
    },
    {
     "name": "stderr",
     "output_type": "stream",
     "text": [
      "Setting `pad_token_id` to `eos_token_id`:151645 for open-end generation.\n",
      "INFO:werkzeug:127.0.0.1 - - [06/Feb/2025 14:34:58] \"POST /ocr HTTP/1.1\" 200 -\n"
     ]
    },
    {
     "name": "stdout",
     "output_type": "stream",
     "text": [
      "Có tin đồn là còn nhiều hơn nữa,\n",
      "/content/uploads/00_11_49_208__00_11_49_708.jpg\n"
     ]
    },
    {
     "name": "stderr",
     "output_type": "stream",
     "text": [
      "Setting `pad_token_id` to `eos_token_id`:151645 for open-end generation.\n",
      "INFO:werkzeug:127.0.0.1 - - [06/Feb/2025 14:35:04] \"POST /ocr HTTP/1.1\" 200 -\n"
     ]
    },
    {
     "name": "stdout",
     "output_type": "stream",
     "text": [
      "Có tin đồn là còn nhiều hơn nữa,\n",
      "/content/uploads/00_11_49_750__00_11_49_917.jpg\n"
     ]
    },
    {
     "name": "stderr",
     "output_type": "stream",
     "text": [
      "Setting `pad_token_id` to `eos_token_id`:151645 for open-end generation.\n",
      "INFO:werkzeug:127.0.0.1 - - [06/Feb/2025 14:35:10] \"POST /ocr HTTP/1.1\" 200 -\n"
     ]
    },
    {
     "name": "stdout",
     "output_type": "stream",
     "text": [
      "Có tin đồn là còn nhiều hơn nữa,\n",
      "/content/uploads/00_11_49_917__00_11_50_000.jpg\n"
     ]
    },
    {
     "name": "stderr",
     "output_type": "stream",
     "text": [
      "Setting `pad_token_id` to `eos_token_id`:151645 for open-end generation.\n",
      "INFO:werkzeug:127.0.0.1 - - [06/Feb/2025 14:35:16] \"POST /ocr HTTP/1.1\" 200 -\n"
     ]
    },
    {
     "name": "stdout",
     "output_type": "stream",
     "text": [
      "Có tin đồn là còn nhiều hơn nữa,\n",
      "/content/uploads/00_11_50_000__00_11_50_751.jpg\n"
     ]
    },
    {
     "name": "stderr",
     "output_type": "stream",
     "text": [
      "Setting `pad_token_id` to `eos_token_id`:151645 for open-end generation.\n",
      "INFO:werkzeug:127.0.0.1 - - [06/Feb/2025 14:35:22] \"POST /ocr HTTP/1.1\" 200 -\n"
     ]
    },
    {
     "name": "stdout",
     "output_type": "stream",
     "text": [
      "Có tin đồn là còn nhiều hơn nữa,\n",
      "/content/uploads/00_11_50_751__00_11_53_629.jpg\n"
     ]
    },
    {
     "name": "stderr",
     "output_type": "stream",
     "text": [
      "Setting `pad_token_id` to `eos_token_id`:151645 for open-end generation.\n",
      "INFO:werkzeug:127.0.0.1 - - [06/Feb/2025 14:35:29] \"POST /ocr HTTP/1.1\" 200 -\n"
     ]
    },
    {
     "name": "stdout",
     "output_type": "stream",
     "text": [
      "những hồ sơ sẽ bị xóa nếu như tử trận, nên tớ không biết chính xác.\n",
      "/content/uploads/00_11_48_707__00_11_54_046.jpg\n"
     ]
    },
    {
     "name": "stderr",
     "output_type": "stream",
     "text": [
      "Setting `pad_token_id` to `eos_token_id`:151645 for open-end generation.\n",
      "INFO:werkzeug:127.0.0.1 - - [06/Feb/2025 14:35:34] \"POST /ocr HTTP/1.1\" 200 -\n"
     ]
    },
    {
     "name": "stdout",
     "output_type": "stream",
     "text": [
      "Không nhận diện được bất kỳ chữ nào trong ảnh.\n",
      "/content/uploads/00_11_53_629__00_11_54_046.jpg\n"
     ]
    },
    {
     "name": "stderr",
     "output_type": "stream",
     "text": [
      "Setting `pad_token_id` to `eos_token_id`:151645 for open-end generation.\n",
      "INFO:werkzeug:127.0.0.1 - - [06/Feb/2025 14:35:41] \"POST /ocr HTTP/1.1\" 200 -\n"
     ]
    },
    {
     "name": "stdout",
     "output_type": "stream",
     "text": [
      "những hồ sơ sẽ bị xóa nếu như tử trận, nên tớ không biết chính xác.\n",
      "/content/uploads/00_11_54_046__00_11_56_132.jpg\n"
     ]
    },
    {
     "name": "stderr",
     "output_type": "stream",
     "text": [
      "Setting `pad_token_id` to `eos_token_id`:151645 for open-end generation.\n",
      "INFO:werkzeug:127.0.0.1 - - [06/Feb/2025 14:35:48] \"POST /ocr HTTP/1.1\" 200 -\n"
     ]
    },
    {
     "name": "stdout",
     "output_type": "stream",
     "text": [
      "Master cũng từng là thành viên của Phantom Trigger.\n",
      "/content/uploads/00_11_56_132__00_11_56_549.jpg\n"
     ]
    },
    {
     "name": "stderr",
     "output_type": "stream",
     "text": [
      "Setting `pad_token_id` to `eos_token_id`:151645 for open-end generation.\n",
      "INFO:werkzeug:127.0.0.1 - - [06/Feb/2025 14:35:55] \"POST /ocr HTTP/1.1\" 200 -\n"
     ]
    },
    {
     "name": "stdout",
     "output_type": "stream",
     "text": [
      "Không nhận diện được bất kỳ chữ nào trong ảnh.\n",
      "/content/uploads/00_11_56_132__00_11_56_882.jpg\n"
     ]
    },
    {
     "name": "stderr",
     "output_type": "stream",
     "text": [
      "Setting `pad_token_id` to `eos_token_id`:151645 for open-end generation.\n",
      "INFO:werkzeug:127.0.0.1 - - [06/Feb/2025 14:36:02] \"POST /ocr HTTP/1.1\" 200 -\n"
     ]
    },
    {
     "name": "stdout",
     "output_type": "stream",
     "text": [
      "Master cũng từng là thành viên của Phantom Trigger.\n",
      "/content/uploads/00_11_56_549__00_11_57_049.jpg\n"
     ]
    },
    {
     "name": "stderr",
     "output_type": "stream",
     "text": [
      "Setting `pad_token_id` to `eos_token_id`:151645 for open-end generation.\n",
      "INFO:werkzeug:127.0.0.1 - - [06/Feb/2025 14:36:08] \"POST /ocr HTTP/1.1\" 200 -\n"
     ]
    },
    {
     "name": "stdout",
     "output_type": "stream",
     "text": [
      "Không nhận diện được bất kỳ chữ nào trong ảnh.\n",
      "/content/uploads/00_11_57_049__00_11_58_384.jpg\n"
     ]
    },
    {
     "name": "stderr",
     "output_type": "stream",
     "text": [
      "Setting `pad_token_id` to `eos_token_id`:151645 for open-end generation.\n",
      "INFO:werkzeug:127.0.0.1 - - [06/Feb/2025 14:36:15] \"POST /ocr HTTP/1.1\" 200 -\n"
     ]
    },
    {
     "name": "stdout",
     "output_type": "stream",
     "text": [
      "Không nhận diện được bất kỳ chữ nào trong ảnh.\n",
      "/content/uploads/00_11_56_882__00_11_58_676.jpg\n"
     ]
    },
    {
     "name": "stderr",
     "output_type": "stream",
     "text": [
      "Setting `pad_token_id` to `eos_token_id`:151645 for open-end generation.\n",
      "INFO:werkzeug:127.0.0.1 - - [06/Feb/2025 14:36:21] \"POST /ocr HTTP/1.1\" 200 -\n"
     ]
    },
    {
     "name": "stdout",
     "output_type": "stream",
     "text": [
      "Ra là thế, thì ra là vậy...\n",
      "/content/uploads/00_11_58_384__00_11_58_717.jpg\n"
     ]
    },
    {
     "name": "stderr",
     "output_type": "stream",
     "text": [
      "Setting `pad_token_id` to `eos_token_id`:151645 for open-end generation.\n",
      "INFO:werkzeug:127.0.0.1 - - [06/Feb/2025 14:36:27] \"POST /ocr HTTP/1.1\" 200 -\n"
     ]
    },
    {
     "name": "stdout",
     "output_type": "stream",
     "text": [
      "Không nhận diện được bất kỳ chữ nào trong ảnh.\n",
      "/content/uploads/00_11_58_717__00_11_58_843.jpg\n"
     ]
    },
    {
     "name": "stderr",
     "output_type": "stream",
     "text": [
      "Setting `pad_token_id` to `eos_token_id`:151645 for open-end generation.\n",
      "INFO:werkzeug:127.0.0.1 - - [06/Feb/2025 14:36:33] \"POST /ocr HTTP/1.1\" 200 -\n"
     ]
    },
    {
     "name": "stdout",
     "output_type": "stream",
     "text": [
      "Ra là thế, thì ra là vậy...\n",
      "/content/uploads/00_11_58_884__00_11_59_051.jpg\n"
     ]
    },
    {
     "name": "stderr",
     "output_type": "stream",
     "text": [
      "Setting `pad_token_id` to `eos_token_id`:151645 for open-end generation.\n",
      "INFO:werkzeug:127.0.0.1 - - [06/Feb/2025 14:36:41] \"POST /ocr HTTP/1.1\" 200 -\n"
     ]
    },
    {
     "name": "stdout",
     "output_type": "stream",
     "text": [
      "Hai đứa đang bàn chuyện gì thế?\n",
      "/content/uploads/00_11_59_051__00_11_59_218.jpg\n"
     ]
    },
    {
     "name": "stderr",
     "output_type": "stream",
     "text": [
      "Setting `pad_token_id` to `eos_token_id`:151645 for open-end generation.\n",
      "INFO:werkzeug:127.0.0.1 - - [06/Feb/2025 14:36:48] \"POST /ocr HTTP/1.1\" 200 -\n"
     ]
    },
    {
     "name": "stdout",
     "output_type": "stream",
     "text": [
      "Hai đứa đang bàn chuyện gì thế?\n",
      "/content/uploads/00_11_59_218__00_12_00_553.jpg\n"
     ]
    }
   ],
   "source": [
    "# Viết code Flask để expose ra API\n",
    "\n",
    "# Initialize Flask app\n",
    "from flask import Flask, request, jsonify\n",
    "from flask_cors import CORS\n",
    "from werkzeug.utils import secure_filename\n",
    "import torch\n",
    "import os\n",
    "from PIL import Image\n",
    "import io\n",
    "\n",
    "app = Flask(__name__)\n",
    "CORS(app)\n",
    "\n",
    "UPLOAD_FOLDER = \"uploads\"\n",
    "os.makedirs(UPLOAD_FOLDER, exist_ok=True)\n",
    "\n",
    "prompt = '''<image>\\nNhận diện chữ trong ảnh. Chỉ trả về chữ nhận diện được'''\n",
    "\n",
    "@app.route('/ocr', methods=['POST'])\n",
    "def index():\n",
    "    if 'image' not in request.files:\n",
    "        return jsonify({\"error\": \"No image file uploaded\"}), 400\n",
    "\n",
    "    image_file = request.files['image']\n",
    "    filename = secure_filename(image_file.filename)\n",
    "    file_path = os.path.join(\"/content/\",UPLOAD_FOLDER, filename)\n",
    "    print(file_path)\n",
    "    # Save uploaded image\n",
    "    image_file.save(file_path)\n",
    "\n",
    "    # Perform OCR\n",
    "    response_message = ocr_by_llm(file_path, prompt)\n",
    "    os.remove(file_path)\n",
    "    return response_message\n",
    "\n",
    "def ocr_by_llm(image_path, prompt):\n",
    "    # Convert image to tensor and process\n",
    "    if torch.cuda.is_available():\n",
    "      pixel_values = load_image(image_path, max_num=6).to(torch.bfloat16).cuda()\n",
    "    else:\n",
    "      pixel_values = load_image(image_path, max_num=6).to(torch.bfloat16)\n",
    "    response_message = model.chat(tokenizer, pixel_values, prompt, generation_config)\n",
    "\n",
    "    del pixel_values\n",
    "\n",
    "    print(response_message)\n",
    "    return response_message\n",
    "\n",
    "if __name__ == '__main__':\n",
    "\n",
    "    ngrok_url = ngrok.connect(5555)\n",
    "    print(ngrok_url)\n",
    "\n",
    "    app.run(port=5555)"
   ]
  }
 ],
 "metadata": {
  "accelerator": "GPU",
  "colab": {
   "gpuType": "T4",
   "provenance": []
  },
  "kernelspec": {
   "display_name": "Python 3 (ipykernel)",
   "language": "python",
   "name": "python3"
  },
  "language_info": {
   "codemirror_mode": {
    "name": "ipython",
    "version": 3
   },
   "file_extension": ".py",
   "mimetype": "text/x-python",
   "name": "python",
   "nbconvert_exporter": "python",
   "pygments_lexer": "ipython3",
   "version": "3.12.8"
  }
 },
 "nbformat": 4,
 "nbformat_minor": 4
}
